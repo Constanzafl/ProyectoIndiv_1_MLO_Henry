{
 "cells": [
  {
   "cell_type": "code",
   "execution_count": 15,
   "metadata": {},
   "outputs": [],
   "source": [
    "import pandas as pd\n",
    "import json\n",
    "import ast"
   ]
  },
  {
   "cell_type": "code",
   "execution_count": 16,
   "metadata": {},
   "outputs": [],
   "source": [
    "dfcredits= pd.read_csv(r'C:\\Users\\flori\\Desktop\\DATA SCIENCE\\LABS\\credits\\credits.csv')\n",
    "dfcredits.rename(columns={'id':'id_original'}, inplace= True)"
   ]
  },
  {
   "cell_type": "code",
   "execution_count": 17,
   "metadata": {},
   "outputs": [],
   "source": [
    "pd.set_option('display.max_colwidth', None) ##para ver todo el contenido de la columna"
   ]
  },
  {
   "cell_type": "code",
   "execution_count": 18,
   "metadata": {},
   "outputs": [],
   "source": [
    "#dfcredits.head(1)"
   ]
  },
  {
   "cell_type": "code",
   "execution_count": 19,
   "metadata": {},
   "outputs": [],
   "source": [
    "# {'cast_id','character', 'credit_id', 'gender', 'id', 'name', 'order', 'profile_path'}"
   ]
  },
  {
   "cell_type": "code",
   "execution_count": 20,
   "metadata": {},
   "outputs": [],
   "source": [
    "#utilizo ast literal para evaluar y transformar las cadenas de texto que representan diccionarios a diccionarios propiamente dichos\n",
    "dfcredits['cast'] = dfcredits['cast'].apply(ast.literal_eval) "
   ]
  },
  {
   "cell_type": "code",
   "execution_count": 21,
   "metadata": {},
   "outputs": [],
   "source": [
    "df_exploded = dfcredits.explode('cast')\n",
    "\n",
    "def extract_cast_info(x):\n",
    "    if isinstance(x, dict):\n",
    "        return pd.Series([x.get('character', ''),x.get('name', '')])\n",
    "    else:\n",
    "        return pd.Series(['', ''])\n",
    "\n",
    "df_exploded[[ 'name', 'character']] = df_exploded['cast'].apply(extract_cast_info) "
   ]
  },
  {
   "cell_type": "code",
   "execution_count": 22,
   "metadata": {},
   "outputs": [],
   "source": [
    "columnas= ['cast', 'crew']\n",
    "df_actores= df_exploded.drop(columns=columnas)"
   ]
  },
  {
   "cell_type": "code",
   "execution_count": 23,
   "metadata": {},
   "outputs": [
    {
     "data": {
      "text/html": [
       "<div>\n",
       "<style scoped>\n",
       "    .dataframe tbody tr th:only-of-type {\n",
       "        vertical-align: middle;\n",
       "    }\n",
       "\n",
       "    .dataframe tbody tr th {\n",
       "        vertical-align: top;\n",
       "    }\n",
       "\n",
       "    .dataframe thead th {\n",
       "        text-align: right;\n",
       "    }\n",
       "</style>\n",
       "<table border=\"1\" class=\"dataframe\">\n",
       "  <thead>\n",
       "    <tr style=\"text-align: right;\">\n",
       "      <th></th>\n",
       "      <th>id_original</th>\n",
       "      <th>name</th>\n",
       "      <th>character</th>\n",
       "    </tr>\n",
       "  </thead>\n",
       "  <tbody>\n",
       "    <tr>\n",
       "      <th>0</th>\n",
       "      <td>862</td>\n",
       "      <td>Woody (voice)</td>\n",
       "      <td>Tom Hanks</td>\n",
       "    </tr>\n",
       "    <tr>\n",
       "      <th>0</th>\n",
       "      <td>862</td>\n",
       "      <td>Buzz Lightyear (voice)</td>\n",
       "      <td>Tim Allen</td>\n",
       "    </tr>\n",
       "    <tr>\n",
       "      <th>0</th>\n",
       "      <td>862</td>\n",
       "      <td>Mr. Potato Head (voice)</td>\n",
       "      <td>Don Rickles</td>\n",
       "    </tr>\n",
       "    <tr>\n",
       "      <th>0</th>\n",
       "      <td>862</td>\n",
       "      <td>Slinky Dog (voice)</td>\n",
       "      <td>Jim Varney</td>\n",
       "    </tr>\n",
       "    <tr>\n",
       "      <th>0</th>\n",
       "      <td>862</td>\n",
       "      <td>Rex (voice)</td>\n",
       "      <td>Wallace Shawn</td>\n",
       "    </tr>\n",
       "  </tbody>\n",
       "</table>\n",
       "</div>"
      ],
      "text/plain": [
       "   id_original                     name      character\n",
       "0          862            Woody (voice)      Tom Hanks\n",
       "0          862   Buzz Lightyear (voice)      Tim Allen\n",
       "0          862  Mr. Potato Head (voice)    Don Rickles\n",
       "0          862       Slinky Dog (voice)     Jim Varney\n",
       "0          862              Rex (voice)  Wallace Shawn"
      ]
     },
     "execution_count": 23,
     "metadata": {},
     "output_type": "execute_result"
    }
   ],
   "source": [
    "df_actores.head()"
   ]
  },
  {
   "cell_type": "code",
   "execution_count": 41,
   "metadata": {},
   "outputs": [],
   "source": [
    "#df_actores[['id_original','character']].groupby('id_original').sum()"
   ]
  },
  {
   "cell_type": "code",
   "execution_count": 45,
   "metadata": {},
   "outputs": [
    {
     "data": {
      "text/html": [
       "<div>\n",
       "<style scoped>\n",
       "    .dataframe tbody tr th:only-of-type {\n",
       "        vertical-align: middle;\n",
       "    }\n",
       "\n",
       "    .dataframe tbody tr th {\n",
       "        vertical-align: top;\n",
       "    }\n",
       "\n",
       "    .dataframe thead th {\n",
       "        text-align: right;\n",
       "    }\n",
       "</style>\n",
       "<table border=\"1\" class=\"dataframe\">\n",
       "  <thead>\n",
       "    <tr style=\"text-align: right;\">\n",
       "      <th></th>\n",
       "      <th>id_original</th>\n",
       "      <th>name</th>\n",
       "      <th>character</th>\n",
       "    </tr>\n",
       "  </thead>\n",
       "  <tbody>\n",
       "    <tr>\n",
       "      <th>0</th>\n",
       "      <td>2</td>\n",
       "      <td>'Taisto Olavi Kasurinen' 'Irmeli Katariina Pihlaja' 'Mikkonen' 'Riku'</td>\n",
       "      <td>'Turo Pajala, Susanna Haavisto, Matti Pellonpää, Eetu Hilkamo'</td>\n",
       "    </tr>\n",
       "    <tr>\n",
       "      <th>1</th>\n",
       "      <td>3</td>\n",
       "      <td>'Nikander' 'Ilona Rajamäki' 'Melartin' 'Co-worker' 'Ilona's Girlfriend' 'Shop Steward' 'Third Man'</td>\n",
       "      <td>'Matti Pellonpää, Kati Outinen, Sakari Kuosmanen, Esko Nikkari, Kylli Köngäs, Pekka Laiho, Jukka-Pekka Palo'</td>\n",
       "    </tr>\n",
       "    <tr>\n",
       "      <th>2</th>\n",
       "      <td>5</td>\n",
       "      <td>'Ted the Bellhop' 'Man' 'Angela' 'Elspeth' 'Margaret' 'Leo' 'Chester Rush' 'Jezebel' 'Diana' 'Athena' 'Raven' 'Long Hair Yuppy Scum' 'Eva' 'Kiva' 'Siegfried' 'Sarah' 'Wife' 'Betty' 'Norman' 'TV Dancing Girl' 'Corpse' 'Juancho' 'Hooker' 'Sam the Bellhop'</td>\n",
       "      <td>'Tim Roth, Antonio Banderas, Jennifer Beals, Madonna, Marisa Tomei, Bruce Willis, Quentin Tarantino, Sammi Davis, Amanda de Cadenet, Valeria Golino, Lili Taylor, Lawrence Bender, Ione Skye, Alicia Witt, David Proval, Lana McKissack, Tamlyn Tomita, Kathy Griffin, Paul Calderon, Salma Hayek, Patricia Vonne, Danny Verduzco, Kimberly Blair, Marc Lawrence'</td>\n",
       "    </tr>\n",
       "    <tr>\n",
       "      <th>3</th>\n",
       "      <td>6</td>\n",
       "      <td>'Frank Wyatt' 'Mike Peterson' 'Fallon' 'Ray Cochran' 'Sykes' 'Teddy, the Kid' 'Rhodes' 'Travis' 'Dre' 'Buck' 'Linda Wyatt' 'Clarissa' 'Rita' 'John Wyatt' 'Charley'</td>\n",
       "      <td>'Emilio Estevez, Cuba Gooding Jr., Denis Leary, Jeremy Piven, Peter Greene, Michael DeLorenzo, Everlast, Michael Wiseman, Relioues Webb, Eugene Williams, Christine Harnos, Galyn Görg, Angela Alvarado, Stephen Dorff, Will Zahrn'</td>\n",
       "    </tr>\n",
       "    <tr>\n",
       "      <th>4</th>\n",
       "      <td>11</td>\n",
       "      <td>'Luke Skywalker' 'Han Solo' 'Princess Leia Organa' 'Grand Moff Tarkin' 'Obi-Wan \"Ben\" Kenobi' 'See Threepio (C-3PO)' 'Artoo-Detoo (R2-D2)' 'Chewbacca' 'Darth Vader' 'Voice of Darth Vader (voice)' 'Uncle Owen' 'Aunt Beru' 'Chief Jawa' 'General Willard' 'Red Two (Wedge)' 'Red Three (Biggs)' 'General Taggi' 'Commander #1' 'General Motti' 'Stormtrooper' 'General Dodonna' 'Red Leader' 'Red Four (John \"D\")' 'Red Six (Porkins)' 'Gold Leader' 'Gold Two' 'Gold Five' 'Red Two (voice) (uncredited)' 'Boba Fett (special edition) (uncredited)' 'Stormtrooper (voice) (uncredited)' 'Stormtrooper (uncredited)' 'Cantina Alien (uncredited)' 'Cantina Alien (uncredited)' 'Greedo (uncredited)' 'Nabrun Leids (uncredited)' 'Wuher (uncredited)' 'Drifter (Red 12) (uncredited)' 'Cantina Patron (uncredited)' 'Stormtrooper (uncredited)' 'Wioslea (uncredited)' 'Dr. Evazan (uncredited)' 'Cantina Patron (uncredited)' 'Greedo (uncredited)' 'Hrchek Kal Fas (uncredited)' 'Jawa (uncredited)' 'Stormtrooper / Tusken Raider / Death Star Trooper / Garouf Lafoe (uncredited)' 'Jawa (uncredited)' 'Garindan (uncredited)' 'Djas Puhr (uncredited)' 'Death Star Trooper (uncredited)' 'Stormtrooper with Binoculars (uncredited)' 'Cantina Patron (uncredited)' 'Death Star Trooper (uncredited)' 'Kabe (uncredited)' 'Kabe / Jawa / GONK Droid (uncredited)' 'Cantina Patron (uncredited)' 'Stormtrooper (special edition) (uncredited)' 'Stormtrooper (uncredited)' 'Leia's Rebel Escort (uncredited)' 'Stormtrooper (uncredited)' 'Brea Tonnika (uncredited)' 'Stormtrooper (uncredited)' 'Ponda Baba (uncredited)' 'Death Star Trooper (uncredited)' 'Mosep (uncredited)' 'Chall Bekan (uncredited)' 'Solomohal (uncredited)' 'Stormtrooper (voice) (uncredited)' 'Jawa (uncredited)' 'Jawa (uncredited)' 'Daine Jir (uncredited)' 'BoShek (uncredited)' 'Muftak / Cantina Band Member (uncredited)' 'Temple Guard / Medal Bearer (uncredited)' 'Jawa (uncredited)' 'Takeel (uncredited)' 'Stormtrooper (special edition) (uncredited)' 'Death Star Gunner (uncredited)' 'Cantina Patron (uncredited)' 'Swilla Corey (uncredited)' 'Massassi Base Rebel Scout (uncredited)' 'Rycar Ryjerd (uncredited)' 'InCom Engineer (uncredited)' 'Leesub Sirln (uncredited)' 'Cmdr. Praji (Imperial Officer #2 on rebel ship) (uncredited)' 'Tawss Khaa (uncredited)' 'Senni Tonnika (uncredited)' 'Cantina Patron (uncredited)' 'Cantina Patron (uncredited)' 'Sai'torr Kal Fas (uncredited)' 'Lt. Pol Treidum (uncredited)' 'Cantina Voices (voice) (uncredited)' 'Massassi Outpost Announcer / Various Voices (voice) (uncredited)' 'Lt. Shann Childsen (uncredited)' 'Cantina Alien (uncredited)' 'Del Goren (uncredited)' 'Stormtrooper (voice) (uncredited)' 'Stormtrooper (voice) (uncredited)' 'Jawa (uncredited)' 'Greedo (voice) (uncredited)' 'Thuku (uncredited)' 'Ketwol / Melas (uncredited)' 'Stormtrooper (uncredited)' 'Mos Eisley Citizen (special edition) (uncredited)' 'Cantina Patron (uncredited)' 'Rebel Pilot (uncredited)'</td>\n",
       "      <td>'Mark Hamill, Harrison Ford, Carrie Fisher, Peter Cushing, Alec Guinness, Anthony Daniels, Kenny Baker, Peter Mayhew, David Prowse, James Earl Jones, Phil Brown, Shelagh Fraser, Jack Purvis, Eddie Byrne, Denis Lawson, Garrick Hagon, Don Henderson, Leslie Schofield, Richard LeParmentier, Michael Leader, Alex McCrindle, Drewe Henley, Jack Klaff, William Hootkins, Angus MacInnes, Jeremy Sinden, Graham Ashley, David Ankrum, Mark Austin, Scott Beach, Lightning Bear, Jon Berg, Doug Beswick, Paul Blake, Janice Burchette, Ted Burnett, John Chapman, Gilda Cohen, Tim Condren, Barry Copping, Alfie Curtis, Robert Davies, Maria De Aragon, Robert A. Denham, Frazer Diamond, Peter Diamond, Warwick Diamond, Sadie Eden, Kim Falkinburg, Harry Fielder, Ted Gagliano, Salo Gardner, Steve Gawley, Barry Gnome, Rusty Goffe, Isaac Grand, Nelson Hall, Reg Harding, Alan Harris, Frank Henson, Christine Hewett, Arthur Howell, Tommy Ilsley, Joe Johnston, Annette Jones, Linda Jones, Joe Kaye, Colin Michael Kitchens, Melissa Kurtz, Tiffany L. Kurtz, Al Lampert, Anthony Lang, Laine Liska, Derek Lyons, Mahjoub, Alf Mangan, Rick McCallum, Grant McCune, Geoffrey Moon, Mandy Morton, Lorne Peterson, Marcus Powell, Shane Rimmer, Pam Rose, George Roubicek, Erica Simmons, Angela Staines, George Stock, Roy Straite, Peter Sturgeon, Peter Sumner, John Sylla, Tom Sylla, Malcolm Tierney, Phil Tippett, Burnell Tucker, Morgan Upton, Jerry Walter, Hal Wamsley, Larry Ward, Diana Sadley Way, Harold Weed, Bill Weston, Steve 'Spaz' Williams, Fred Wood, Colin Higgins'</td>\n",
       "    </tr>\n",
       "    <tr>\n",
       "      <th>...</th>\n",
       "      <td>...</td>\n",
       "      <td>...</td>\n",
       "      <td>...</td>\n",
       "    </tr>\n",
       "    <tr>\n",
       "      <th>45427</th>\n",
       "      <td>465044</td>\n",
       "      <td>'Bozena' 'The Hive Queen' 'Melissa' 'The Doctor, Asil' 'Thorson' 'Anna'</td>\n",
       "      <td>'Karolina Antosik, Amelie Leroy, Tessa McGinn, Kemal Yildirim, Mel Mills, Kelsey Williams'</td>\n",
       "    </tr>\n",
       "    <tr>\n",
       "      <th>45428</th>\n",
       "      <td>467731</td>\n",
       "      <td>'Alec Beggs' 'Frank Doran' 'Raphael Infante' 'Matt Fisher' 'Grace Beggs' 'Dotty Fisher' 'Buddy Beggs' 'Julio Infante' 'Anderson' 'Sankey' 'Reynolds' 'Mickey Doran' 'Pike' 'Dolores Infante'</td>\n",
       "      <td>'Lloyd Bridges, Jack Warden, Rafael Campos, Robert Emhardt, Vivian Nathan, Betty Lou Keim, Clifford Tatum Jr., Will Kuluva, Edward Binns, Robert Dryden, Peter Gumeny, Donald Harron, Milton Selzer, Jane White'</td>\n",
       "    </tr>\n",
       "    <tr>\n",
       "      <th>45429</th>\n",
       "      <td>468343</td>\n",
       "      <td>''</td>\n",
       "      <td>''</td>\n",
       "    </tr>\n",
       "    <tr>\n",
       "      <th>45430</th>\n",
       "      <td>468707</td>\n",
       "      <td>'Satu' 'Heidi' 'Lauri' 'Henri' 'Ari' 'Viljami'</td>\n",
       "      <td>'Inka Haapamäki, Rosa Honkonen, Tiitus Rantala, Santeri Helinheimo Mäntylä, Peter Kanerva, Samuli Vauramo'</td>\n",
       "    </tr>\n",
       "    <tr>\n",
       "      <th>45431</th>\n",
       "      <td>469172</td>\n",
       "      <td>'Manuel(7 years old)' 'Manuel's Mother' 'Manuel's Father' 'Manuel(13 years old)' 'Captain Araujo' 'Tante' 'Professor' 'Pecheur' 'Marilina' 'Roque' 'Pedro' 'João' 'Clara' 'Pianiste' 'Motorist de la Tante' 'Pauvre' 'Femme Aveugle' 'Fils Pauvre' 'Pauvre' ''</td>\n",
       "      <td>'Ruben de Freitas, Teresa Madruga, Fernando Heitor, Marco Paulo de Freitas, Diogo Dória, Cecília Guimarães, Vasco Pimentel, José de Freitas, Aurélie Chazelle, Miguel Silva, Pedro M. Ruivo, Pedro Fernandes, Clara Rolim, Luis Gaspar da Silva, Tony Jessen, Vasco Sequeira, Armanda Bacelar, Rafael de Sousa, José Antônio Gomes, Isabel Branco'</td>\n",
       "    </tr>\n",
       "  </tbody>\n",
       "</table>\n",
       "<p>45432 rows × 3 columns</p>\n",
       "</div>"
      ],
      "text/plain": [
       "       id_original  \\\n",
       "0                2   \n",
       "1                3   \n",
       "2                5   \n",
       "3                6   \n",
       "4               11   \n",
       "...            ...   \n",
       "45427       465044   \n",
       "45428       467731   \n",
       "45429       468343   \n",
       "45430       468707   \n",
       "45431       469172   \n",
       "\n",
       "                                                                                                                                                                                                                                                                                                                                                                                                                                                                                                                                                                                                                                                                                                                                                                                                                                                                                                                                                                                                                                                                                                                                                                                                                                                                                                                                                                                                                                                                                                                                                                                                                                                                                                                                                                                                                                                                                                                                                                                                                                                                                                                                                                                                                                                                                                                                                                                                                                                                                                                                                                                                                                                                                                                                                                                                                                                                                                                                                                                                                                                           name  \\\n",
       "0                                                                                                                                                                                                                                                                                                                                                                                                                                                                                                                                                                                                                                                                                                                                                                                                                                                                                                                                                                                                                                                                                                                                                                                                                                                                                                                                                                                                                                                                                                                                                                                                                                                                                                                                                                                                                                                                                                                                                                                                                                                                                                                                                                                                                                                                                                                                                                                                                                                                                                                                                                                                                                                                                                                                                                                                                                                                                                                                                                                         'Taisto Olavi Kasurinen' 'Irmeli Katariina Pihlaja' 'Mikkonen' 'Riku'   \n",
       "1                                                                                                                                                                                                                                                                                                                                                                                                                                                                                                                                                                                                                                                                                                                                                                                                                                                                                                                                                                                                                                                                                                                                                                                                                                                                                                                                                                                                                                                                                                                                                                                                                                                                                                                                                                                                                                                                                                                                                                                                                                                                                                                                                                                                                                                                                                                                                                                                                                                                                                                                                                                                                                                                                                                                                                                                                                                                                                                                                            'Nikander' 'Ilona Rajamäki' 'Melartin' 'Co-worker' 'Ilona's Girlfriend' 'Shop Steward' 'Third Man'   \n",
       "2                                                                                                                                                                                                                                                                                                                                                                                                                                                                                                                                                                                                                                                                                                                                                                                                                                                                                                                                                                                                                                                                                                                                                                                                                                                                                                                                                                                                                                                                                                                                                                                                                                                                                                                                                                                                                                                                                                                                                                                                                                                                                                                                                                                                                                                                                                                                                                                                                                                                                                                                                                                                                                                                                                                                                                                                 'Ted the Bellhop' 'Man' 'Angela' 'Elspeth' 'Margaret' 'Leo' 'Chester Rush' 'Jezebel' 'Diana' 'Athena' 'Raven' 'Long Hair Yuppy Scum' 'Eva' 'Kiva' 'Siegfried' 'Sarah' 'Wife' 'Betty' 'Norman' 'TV Dancing Girl' 'Corpse' 'Juancho' 'Hooker' 'Sam the Bellhop'   \n",
       "3                                                                                                                                                                                                                                                                                                                                                                                                                                                                                                                                                                                                                                                                                                                                                                                                                                                                                                                                                                                                                                                                                                                                                                                                                                                                                                                                                                                                                                                                                                                                                                                                                                                                                                                                                                                                                                                                                                                                                                                                                                                                                                                                                                                                                                                                                                                                                                                                                                                                                                                                                                                                                                                                                                                                                                                                                                                                                           'Frank Wyatt' 'Mike Peterson' 'Fallon' 'Ray Cochran' 'Sykes' 'Teddy, the Kid' 'Rhodes' 'Travis' 'Dre' 'Buck' 'Linda Wyatt' 'Clarissa' 'Rita' 'John Wyatt' 'Charley'   \n",
       "4      'Luke Skywalker' 'Han Solo' 'Princess Leia Organa' 'Grand Moff Tarkin' 'Obi-Wan \"Ben\" Kenobi' 'See Threepio (C-3PO)' 'Artoo-Detoo (R2-D2)' 'Chewbacca' 'Darth Vader' 'Voice of Darth Vader (voice)' 'Uncle Owen' 'Aunt Beru' 'Chief Jawa' 'General Willard' 'Red Two (Wedge)' 'Red Three (Biggs)' 'General Taggi' 'Commander #1' 'General Motti' 'Stormtrooper' 'General Dodonna' 'Red Leader' 'Red Four (John \"D\")' 'Red Six (Porkins)' 'Gold Leader' 'Gold Two' 'Gold Five' 'Red Two (voice) (uncredited)' 'Boba Fett (special edition) (uncredited)' 'Stormtrooper (voice) (uncredited)' 'Stormtrooper (uncredited)' 'Cantina Alien (uncredited)' 'Cantina Alien (uncredited)' 'Greedo (uncredited)' 'Nabrun Leids (uncredited)' 'Wuher (uncredited)' 'Drifter (Red 12) (uncredited)' 'Cantina Patron (uncredited)' 'Stormtrooper (uncredited)' 'Wioslea (uncredited)' 'Dr. Evazan (uncredited)' 'Cantina Patron (uncredited)' 'Greedo (uncredited)' 'Hrchek Kal Fas (uncredited)' 'Jawa (uncredited)' 'Stormtrooper / Tusken Raider / Death Star Trooper / Garouf Lafoe (uncredited)' 'Jawa (uncredited)' 'Garindan (uncredited)' 'Djas Puhr (uncredited)' 'Death Star Trooper (uncredited)' 'Stormtrooper with Binoculars (uncredited)' 'Cantina Patron (uncredited)' 'Death Star Trooper (uncredited)' 'Kabe (uncredited)' 'Kabe / Jawa / GONK Droid (uncredited)' 'Cantina Patron (uncredited)' 'Stormtrooper (special edition) (uncredited)' 'Stormtrooper (uncredited)' 'Leia's Rebel Escort (uncredited)' 'Stormtrooper (uncredited)' 'Brea Tonnika (uncredited)' 'Stormtrooper (uncredited)' 'Ponda Baba (uncredited)' 'Death Star Trooper (uncredited)' 'Mosep (uncredited)' 'Chall Bekan (uncredited)' 'Solomohal (uncredited)' 'Stormtrooper (voice) (uncredited)' 'Jawa (uncredited)' 'Jawa (uncredited)' 'Daine Jir (uncredited)' 'BoShek (uncredited)' 'Muftak / Cantina Band Member (uncredited)' 'Temple Guard / Medal Bearer (uncredited)' 'Jawa (uncredited)' 'Takeel (uncredited)' 'Stormtrooper (special edition) (uncredited)' 'Death Star Gunner (uncredited)' 'Cantina Patron (uncredited)' 'Swilla Corey (uncredited)' 'Massassi Base Rebel Scout (uncredited)' 'Rycar Ryjerd (uncredited)' 'InCom Engineer (uncredited)' 'Leesub Sirln (uncredited)' 'Cmdr. Praji (Imperial Officer #2 on rebel ship) (uncredited)' 'Tawss Khaa (uncredited)' 'Senni Tonnika (uncredited)' 'Cantina Patron (uncredited)' 'Cantina Patron (uncredited)' 'Sai'torr Kal Fas (uncredited)' 'Lt. Pol Treidum (uncredited)' 'Cantina Voices (voice) (uncredited)' 'Massassi Outpost Announcer / Various Voices (voice) (uncredited)' 'Lt. Shann Childsen (uncredited)' 'Cantina Alien (uncredited)' 'Del Goren (uncredited)' 'Stormtrooper (voice) (uncredited)' 'Stormtrooper (voice) (uncredited)' 'Jawa (uncredited)' 'Greedo (voice) (uncredited)' 'Thuku (uncredited)' 'Ketwol / Melas (uncredited)' 'Stormtrooper (uncredited)' 'Mos Eisley Citizen (special edition) (uncredited)' 'Cantina Patron (uncredited)' 'Rebel Pilot (uncredited)'   \n",
       "...                                                                                                                                                                                                                                                                                                                                                                                                                                                                                                                                                                                                                                                                                                                                                                                                                                                                                                                                                                                                                                                                                                                                                                                                                                                                                                                                                                                                                                                                                                                                                                                                                                                                                                                                                                                                                                                                                                                                                                                                                                                                                                                                                                                                                                                                                                                                                                                                                                                                                                                                                                                                                                                                                                                                                                                                                                                                                                                                                                                                                                                         ...   \n",
       "45427                                                                                                                                                                                                                                                                                                                                                                                                                                                                                                                                                                                                                                                                                                                                                                                                                                                                                                                                                                                                                                                                                                                                                                                                                                                                                                                                                                                                                                                                                                                                                                                                                                                                                                                                                                                                                                                                                                                                                                                                                                                                                                                                                                                                                                                                                                                                                                                                                                                                                                                                                                                                                                                                                                                                                                                                                                                                                                                                                                                   'Bozena' 'The Hive Queen' 'Melissa' 'The Doctor, Asil' 'Thorson' 'Anna'   \n",
       "45428                                                                                                                                                                                                                                                                                                                                                                                                                                                                                                                                                                                                                                                                                                                                                                                                                                                                                                                                                                                                                                                                                                                                                                                                                                                                                                                                                                                                                                                                                                                                                                                                                                                                                                                                                                                                                                                                                                                                                                                                                                                                                                                                                                                                                                                                                                                                                                                                                                                                                                                                                                                                                                                                                                                                                                                                                                                              'Alec Beggs' 'Frank Doran' 'Raphael Infante' 'Matt Fisher' 'Grace Beggs' 'Dotty Fisher' 'Buddy Beggs' 'Julio Infante' 'Anderson' 'Sankey' 'Reynolds' 'Mickey Doran' 'Pike' 'Dolores Infante'   \n",
       "45429                                                                                                                                                                                                                                                                                                                                                                                                                                                                                                                                                                                                                                                                                                                                                                                                                                                                                                                                                                                                                                                                                                                                                                                                                                                                                                                                                                                                                                                                                                                                                                                                                                                                                                                                                                                                                                                                                                                                                                                                                                                                                                                                                                                                                                                                                                                                                                                                                                                                                                                                                                                                                                                                                                                                                                                                                                                                                                                                                                                                                                                        ''   \n",
       "45430                                                                                                                                                                                                                                                                                                                                                                                                                                                                                                                                                                                                                                                                                                                                                                                                                                                                                                                                                                                                                                                                                                                                                                                                                                                                                                                                                                                                                                                                                                                                                                                                                                                                                                                                                                                                                                                                                                                                                                                                                                                                                                                                                                                                                                                                                                                                                                                                                                                                                                                                                                                                                                                                                                                                                                                                                                                                                                                                                                                                            'Satu' 'Heidi' 'Lauri' 'Henri' 'Ari' 'Viljami'   \n",
       "45431                                                                                                                                                                                                                                                                                                                                                                                                                                                                                                                                                                                                                                                                                                                                                                                                                                                                                                                                                                                                                                                                                                                                                                                                                                                                                                                                                                                                                                                                                                                                                                                                                                                                                                                                                                                                                                                                                                                                                                                                                                                                                                                                                                                                                                                                                                                                                                                                                                                                                                                                                                                                                                                                                                                                                                                            'Manuel(7 years old)' 'Manuel's Mother' 'Manuel's Father' 'Manuel(13 years old)' 'Captain Araujo' 'Tante' 'Professor' 'Pecheur' 'Marilina' 'Roque' 'Pedro' 'João' 'Clara' 'Pianiste' 'Motorist de la Tante' 'Pauvre' 'Femme Aveugle' 'Fils Pauvre' 'Pauvre' ''   \n",
       "\n",
       "                                                                                                                                                                                                                                                                                                                                                                                                                                                                                                                                                                                                                                                                                                                                                                                                                                                                                                                                                                                                                                                                                                                                                                                                                                                                                                                                                                                                                                                                                                                                                                                                 character  \n",
       "0                                                                                                                                                                                                                                                                                                                                                                                                                                                                                                                                                                                                                                                                                                                                                                                                                                                                                                                                                                                                                                                                                                                                                                                                                                                                                                                                                                                                                                                                                                                                           'Turo Pajala, Susanna Haavisto, Matti Pellonpää, Eetu Hilkamo'  \n",
       "1                                                                                                                                                                                                                                                                                                                                                                                                                                                                                                                                                                                                                                                                                                                                                                                                                                                                                                                                                                                                                                                                                                                                                                                                                                                                                                                                                                                                                                                                                             'Matti Pellonpää, Kati Outinen, Sakari Kuosmanen, Esko Nikkari, Kylli Köngäs, Pekka Laiho, Jukka-Pekka Palo'  \n",
       "2                                                                                                                                                                                                                                                                                                                                                                                                                                                                                                                                                                                                                                                                                                                                                                                                                                                                                                                                                                                                                                                                                                                                                                                                                                        'Tim Roth, Antonio Banderas, Jennifer Beals, Madonna, Marisa Tomei, Bruce Willis, Quentin Tarantino, Sammi Davis, Amanda de Cadenet, Valeria Golino, Lili Taylor, Lawrence Bender, Ione Skye, Alicia Witt, David Proval, Lana McKissack, Tamlyn Tomita, Kathy Griffin, Paul Calderon, Salma Hayek, Patricia Vonne, Danny Verduzco, Kimberly Blair, Marc Lawrence'  \n",
       "3                                                                                                                                                                                                                                                                                                                                                                                                                                                                                                                                                                                                                                                                                                                                                                                                                                                                                                                                                                                                                                                                                                                                                                                                                                                                                                                                                                      'Emilio Estevez, Cuba Gooding Jr., Denis Leary, Jeremy Piven, Peter Greene, Michael DeLorenzo, Everlast, Michael Wiseman, Relioues Webb, Eugene Williams, Christine Harnos, Galyn Görg, Angela Alvarado, Stephen Dorff, Will Zahrn'  \n",
       "4      'Mark Hamill, Harrison Ford, Carrie Fisher, Peter Cushing, Alec Guinness, Anthony Daniels, Kenny Baker, Peter Mayhew, David Prowse, James Earl Jones, Phil Brown, Shelagh Fraser, Jack Purvis, Eddie Byrne, Denis Lawson, Garrick Hagon, Don Henderson, Leslie Schofield, Richard LeParmentier, Michael Leader, Alex McCrindle, Drewe Henley, Jack Klaff, William Hootkins, Angus MacInnes, Jeremy Sinden, Graham Ashley, David Ankrum, Mark Austin, Scott Beach, Lightning Bear, Jon Berg, Doug Beswick, Paul Blake, Janice Burchette, Ted Burnett, John Chapman, Gilda Cohen, Tim Condren, Barry Copping, Alfie Curtis, Robert Davies, Maria De Aragon, Robert A. Denham, Frazer Diamond, Peter Diamond, Warwick Diamond, Sadie Eden, Kim Falkinburg, Harry Fielder, Ted Gagliano, Salo Gardner, Steve Gawley, Barry Gnome, Rusty Goffe, Isaac Grand, Nelson Hall, Reg Harding, Alan Harris, Frank Henson, Christine Hewett, Arthur Howell, Tommy Ilsley, Joe Johnston, Annette Jones, Linda Jones, Joe Kaye, Colin Michael Kitchens, Melissa Kurtz, Tiffany L. Kurtz, Al Lampert, Anthony Lang, Laine Liska, Derek Lyons, Mahjoub, Alf Mangan, Rick McCallum, Grant McCune, Geoffrey Moon, Mandy Morton, Lorne Peterson, Marcus Powell, Shane Rimmer, Pam Rose, George Roubicek, Erica Simmons, Angela Staines, George Stock, Roy Straite, Peter Sturgeon, Peter Sumner, John Sylla, Tom Sylla, Malcolm Tierney, Phil Tippett, Burnell Tucker, Morgan Upton, Jerry Walter, Hal Wamsley, Larry Ward, Diana Sadley Way, Harold Weed, Bill Weston, Steve 'Spaz' Williams, Fred Wood, Colin Higgins'  \n",
       "...                                                                                                                                                                                                                                                                                                                                                                                                                                                                                                                                                                                                                                                                                                                                                                                                                                                                                                                                                                                                                                                                                                                                                                                                                                                                                                                                                                                                                                                                                                                                                                                                    ...  \n",
       "45427                                                                                                                                                                                                                                                                                                                                                                                                                                                                                                                                                                                                                                                                                                                                                                                                                                                                                                                                                                                                                                                                                                                                                                                                                                                                                                                                                                                                                                                                                                           'Karolina Antosik, Amelie Leroy, Tessa McGinn, Kemal Yildirim, Mel Mills, Kelsey Williams'  \n",
       "45428                                                                                                                                                                                                                                                                                                                                                                                                                                                                                                                                                                                                                                                                                                                                                                                                                                                                                                                                                                                                                                                                                                                                                                                                                                                                                                                                                                                     'Lloyd Bridges, Jack Warden, Rafael Campos, Robert Emhardt, Vivian Nathan, Betty Lou Keim, Clifford Tatum Jr., Will Kuluva, Edward Binns, Robert Dryden, Peter Gumeny, Donald Harron, Milton Selzer, Jane White'  \n",
       "45429                                                                                                                                                                                                                                                                                                                                                                                                                                                                                                                                                                                                                                                                                                                                                                                                                                                                                                                                                                                                                                                                                                                                                                                                                                                                                                                                                                                                                                                                                                                                                                                                   ''  \n",
       "45430                                                                                                                                                                                                                                                                                                                                                                                                                                                                                                                                                                                                                                                                                                                                                                                                                                                                                                                                                                                                                                                                                                                                                                                                                                                                                                                                                                                                                                                                                           'Inka Haapamäki, Rosa Honkonen, Tiitus Rantala, Santeri Helinheimo Mäntylä, Peter Kanerva, Samuli Vauramo'  \n",
       "45431                                                                                                                                                                                                                                                                                                                                                                                                                                                                                                                                                                                                                                                                                                                                                                                                                                                                                                                                                                                                                                                                                                                                                                                                                                                   'Ruben de Freitas, Teresa Madruga, Fernando Heitor, Marco Paulo de Freitas, Diogo Dória, Cecília Guimarães, Vasco Pimentel, José de Freitas, Aurélie Chazelle, Miguel Silva, Pedro M. Ruivo, Pedro Fernandes, Clara Rolim, Luis Gaspar da Silva, Tony Jessen, Vasco Sequeira, Armanda Bacelar, Rafael de Sousa, José Antônio Gomes, Isabel Branco'  \n",
       "\n",
       "[45432 rows x 3 columns]"
      ]
     },
     "execution_count": 45,
     "metadata": {},
     "output_type": "execute_result"
    }
   ],
   "source": [
    "grouped_dfactores = df_actores.groupby('id_original').agg({'name': lambda x: \"'\" + \"' '\".join(x) + \"'\",\n",
    "                                           'character': lambda x: \"'\" + ', '.join(map(str, x)) + \"'\"}).reset_index(False)\n",
    "\n",
    "grouped_dfactores "
   ]
  },
  {
   "cell_type": "code",
   "execution_count": 44,
   "metadata": {},
   "outputs": [
    {
     "data": {
      "text/html": [
       "<div>\n",
       "<style scoped>\n",
       "    .dataframe tbody tr th:only-of-type {\n",
       "        vertical-align: middle;\n",
       "    }\n",
       "\n",
       "    .dataframe tbody tr th {\n",
       "        vertical-align: top;\n",
       "    }\n",
       "\n",
       "    .dataframe thead th {\n",
       "        text-align: right;\n",
       "    }\n",
       "</style>\n",
       "<table border=\"1\" class=\"dataframe\">\n",
       "  <thead>\n",
       "    <tr style=\"text-align: right;\">\n",
       "      <th></th>\n",
       "      <th>id_original</th>\n",
       "      <th>name</th>\n",
       "      <th>character</th>\n",
       "    </tr>\n",
       "  </thead>\n",
       "  <tbody>\n",
       "    <tr>\n",
       "      <th>682</th>\n",
       "      <td>862</td>\n",
       "      <td>'Woody (voice)' 'Buzz Lightyear (voice)' 'Mr. Potato Head (voice)' 'Slinky Dog (voice)' 'Rex (voice)' 'Hamm (voice)' 'Bo Peep (voice)' 'Andy (voice)' 'Sid (voice)' 'Mrs. Davis (voice)' 'Sergeant (voice)' 'Hannah (voice)' 'TV Announcer (voice)'</td>\n",
       "      <td>'Tom Hanks,Tim Allen,Don Rickles,Jim Varney,Wallace Shawn,John Ratzenberger,Annie Potts,John Morris,Erik von Detten,Laurie Metcalf,R. Lee Ermey,Sarah Freeman,Penn Jillette'</td>\n",
       "    </tr>\n",
       "  </tbody>\n",
       "</table>\n",
       "</div>"
      ],
      "text/plain": [
       "     id_original  \\\n",
       "682          862   \n",
       "\n",
       "                                                                                                                                                                                                                                                    name  \\\n",
       "682  'Woody (voice)' 'Buzz Lightyear (voice)' 'Mr. Potato Head (voice)' 'Slinky Dog (voice)' 'Rex (voice)' 'Hamm (voice)' 'Bo Peep (voice)' 'Andy (voice)' 'Sid (voice)' 'Mrs. Davis (voice)' 'Sergeant (voice)' 'Hannah (voice)' 'TV Announcer (voice)'   \n",
       "\n",
       "                                                                                                                                                                        character  \n",
       "682  'Tom Hanks,Tim Allen,Don Rickles,Jim Varney,Wallace Shawn,John Ratzenberger,Annie Potts,John Morris,Erik von Detten,Laurie Metcalf,R. Lee Ermey,Sarah Freeman,Penn Jillette'  "
      ]
     },
     "execution_count": 44,
     "metadata": {},
     "output_type": "execute_result"
    }
   ],
   "source": [
    "hola= grouped_dfactores[grouped_dfactores['id_original']== 862]\n",
    "hola.head()\n"
   ]
  },
  {
   "cell_type": "code",
   "execution_count": 46,
   "metadata": {},
   "outputs": [],
   "source": [
    "grouped_dfactores.to_csv('ActoresPorPEliID.csv', index=False)"
   ]
  }
 ],
 "metadata": {
  "kernelspec": {
   "display_name": "Python 3",
   "language": "python",
   "name": "python3"
  },
  "language_info": {
   "codemirror_mode": {
    "name": "ipython",
    "version": 3
   },
   "file_extension": ".py",
   "mimetype": "text/x-python",
   "name": "python",
   "nbconvert_exporter": "python",
   "pygments_lexer": "ipython3",
   "version": "3.11.1"
  },
  "orig_nbformat": 4
 },
 "nbformat": 4,
 "nbformat_minor": 2
}
