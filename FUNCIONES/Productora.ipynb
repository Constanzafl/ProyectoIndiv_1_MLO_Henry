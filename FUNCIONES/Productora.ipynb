{
 "cells": [
  {
   "cell_type": "code",
   "execution_count": 2,
   "metadata": {},
   "outputs": [],
   "source": [
    "import pandas as pd"
   ]
  },
  {
   "cell_type": "code",
   "execution_count": 3,
   "metadata": {},
   "outputs": [],
   "source": [
    "### me traigo un dataframe que arme en el archivo DesanidarProduction que tiene las columnas que me pide la funcion"
   ]
  },
  {
   "cell_type": "code",
   "execution_count": 4,
   "metadata": {},
   "outputs": [],
   "source": [
    "dfprodu= pd.read_csv(r'C:\\Users\\flori\\Desktop\\DATA SCIENCE\\LABS\\Trabajos\\Proyecto_Indiv_1_MLO_Henry\\ETL\\DESANIDANDO\\ProductorasFuncion.csv')"
   ]
  },
  {
   "cell_type": "code",
   "execution_count": 5,
   "metadata": {},
   "outputs": [],
   "source": [
    "def productoras_exitosas(productora: str):\n",
    "    '''Ingresas la productora, entregandote el revunue total y la cantidad de peliculas que realizo '''\n",
    "    \n",
    "    # Filtrar el DataFrame para obtener las películas de la franquicia dada\n",
    "    peliculas_productora = dfprodu[dfprodu['name'] == productora]\n",
    "    \n",
    "    # Verificar si se encontraron películas para la franquicia dada\n",
    "    if peliculas_productora.empty:\n",
    "        return {'Valor inexistente'}  # O un mensaje indicativo de que no se encontraron películas\n",
    "    \n",
    "    # Obtener la cantidad de peliculas en el idioma dado\n",
    "    cantidad = peliculas_productora['id'].values[0]\n",
    "    \n",
    "    # Obtener la ganancia total de la franquicia\n",
    "    ganancia_total = peliculas_productora['revenue'].values[0]\n",
    "    \n",
    "\n",
    "    \n",
    "    # Crear el diccionario de respuesta\n",
    "    respuesta = {\n",
    "        'franquicia': productora,\n",
    "        'cantidad': cantidad,\n",
    "        'ganancia_total': ganancia_total\n",
    "        \n",
    "    }\n",
    "    \n",
    "    return respuesta"
   ]
  },
  {
   "cell_type": "code",
   "execution_count": 6,
   "metadata": {},
   "outputs": [
    {
     "name": "stdout",
     "output_type": "stream",
     "text": [
      "{'franquicia': '120 Films', 'cantidad': 6, 'ganancia_total': 49382792.0}\n"
     ]
    }
   ],
   "source": [
    "resultado= productoras_exitosas('120 Films')\n",
    "\n",
    "print(resultado)\n"
   ]
  }
 ],
 "metadata": {
  "kernelspec": {
   "display_name": "Python 3",
   "language": "python",
   "name": "python3"
  },
  "language_info": {
   "codemirror_mode": {
    "name": "ipython",
    "version": 3
   },
   "file_extension": ".py",
   "mimetype": "text/x-python",
   "name": "python",
   "nbconvert_exporter": "python",
   "pygments_lexer": "ipython3",
   "version": "3.11.1"
  },
  "orig_nbformat": 4
 },
 "nbformat": 4,
 "nbformat_minor": 2
}
