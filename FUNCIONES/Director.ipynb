{
 "cells": [
  {
   "cell_type": "code",
   "execution_count": 1,
   "metadata": {},
   "outputs": [],
   "source": [
    "import pandas as pd\n"
   ]
  },
  {
   "cell_type": "code",
   "execution_count": 2,
   "metadata": {},
   "outputs": [],
   "source": [
    "df_director= pd.read_csv(r'C:\\Users\\flori\\Desktop\\DATA SCIENCE\\LABS\\Trabajos\\Proyecto_Indiv_1_MLO_Henry\\ETL\\DESANIDANDO\\DirectorFUNCION.csv')"
   ]
  },
  {
   "cell_type": "code",
   "execution_count": 3,
   "metadata": {},
   "outputs": [
    {
     "data": {
      "text/html": [
       "<div>\n",
       "<style scoped>\n",
       "    .dataframe tbody tr th:only-of-type {\n",
       "        vertical-align: middle;\n",
       "    }\n",
       "\n",
       "    .dataframe tbody tr th {\n",
       "        vertical-align: top;\n",
       "    }\n",
       "\n",
       "    .dataframe thead th {\n",
       "        text-align: right;\n",
       "    }\n",
       "</style>\n",
       "<table border=\"1\" class=\"dataframe\">\n",
       "  <thead>\n",
       "    <tr style=\"text-align: right;\">\n",
       "      <th></th>\n",
       "      <th>name</th>\n",
       "      <th>budget</th>\n",
       "      <th>release_date</th>\n",
       "      <th>revenue</th>\n",
       "      <th>title</th>\n",
       "      <th>return</th>\n",
       "      <th>return_dire</th>\n",
       "    </tr>\n",
       "  </thead>\n",
       "  <tbody>\n",
       "    <tr>\n",
       "      <th>0</th>\n",
       "      <td>John Lasseter</td>\n",
       "      <td>30000000.0</td>\n",
       "      <td>1995-10-30</td>\n",
       "      <td>373554033.0</td>\n",
       "      <td>Toy Story</td>\n",
       "      <td>12.451801</td>\n",
       "      <td>27.654378</td>\n",
       "    </tr>\n",
       "  </tbody>\n",
       "</table>\n",
       "</div>"
      ],
      "text/plain": [
       "            name      budget release_date      revenue      title     return  \\\n",
       "0  John Lasseter  30000000.0   1995-10-30  373554033.0  Toy Story  12.451801   \n",
       "\n",
       "   return_dire  \n",
       "0    27.654378  "
      ]
     },
     "execution_count": 3,
     "metadata": {},
     "output_type": "execute_result"
    }
   ],
   "source": [
    "df_director.head(1)"
   ]
  },
  {
   "cell_type": "code",
   "execution_count": 6,
   "metadata": {},
   "outputs": [
    {
     "name": "stdout",
     "output_type": "stream",
     "text": [
      "<class 'pandas.core.frame.DataFrame'>\n",
      "RangeIndex: 8398 entries, 0 to 8397\n",
      "Data columns (total 7 columns):\n",
      " #   Column        Non-Null Count  Dtype  \n",
      "---  ------        --------------  -----  \n",
      " 0   name          8398 non-null   object \n",
      " 1   budget        8398 non-null   float64\n",
      " 2   release_date  8398 non-null   object \n",
      " 3   revenue       8398 non-null   float64\n",
      " 4   title         8398 non-null   object \n",
      " 5   return        8398 non-null   float64\n",
      " 6   return_dire   8398 non-null   float64\n",
      "dtypes: float64(4), object(3)\n",
      "memory usage: 459.4+ KB\n"
     ]
    }
   ],
   "source": [
    "df_director.info()"
   ]
  },
  {
   "cell_type": "code",
   "execution_count": 4,
   "metadata": {},
   "outputs": [
    {
     "name": "stdout",
     "output_type": "stream",
     "text": [
      "None\n"
     ]
    }
   ],
   "source": [
    "\n",
    "def get_director(nombre_director: str):\n",
    "    \n",
    "    ''' Se ingresa el nombre de un director que se encuentre dentro de un dataset debiendo devolver el éxito del mismo medido a través del retorno. \n",
    "    \n",
    "    Además, deberá devolver el nombre de cada película con la fecha de lanzamiento, retorno individual, costo y ganancia de la misma. \n",
    "    \n",
    "    En formato lista'''\n",
    "    \n",
    "    # Filtrar el DataFrame para obtener las películas dirigidas por el director dado\n",
    "    peliculas_director = df_director[df_director['name'] == nombre_director]\n",
    "    \n",
    "    # Verificar si el director se encuentra en el DataFrame\n",
    "    if peliculas_director.empty:\n",
    "        return None  # O un mensaje indicativo de que el director no se encontró\n",
    "    \n",
    "    # Calcular el éxito del director sumando los retornos individuales de sus películas\n",
    "    retorno_total_director = peliculas_director['return'].sum()\n",
    "    \n",
    "    # Crear una lista de diccionarios con información detallada de cada película\n",
    "    peliculas = []\n",
    "    for index, row in peliculas_director.iterrows():\n",
    "        pelicula_info = {\n",
    "            'nombre': row['title'],\n",
    "            'anio': row['release_date'],\n",
    "            'retorno_pelicula': row['return'],\n",
    "            'budget_pelicula': row['budget'],\n",
    "            'revenue_pelicula': row['revenue']\n",
    "        }\n",
    "        peliculas.append(pelicula_info)\n",
    "    \n",
    "    # Crear el diccionario de respuesta\n",
    "    respuesta = {\n",
    "        'director': nombre_director,\n",
    "        'retorno_total_director': retorno_total_director,\n",
    "        'peliculas': peliculas\n",
    "    }\n",
    "    \n",
    "    return respuesta\n",
    "\n",
    "# Ejemplo de uso de la función\n",
    "resultado = get_director('Director A')\n",
    "print(resultado)"
   ]
  },
  {
   "cell_type": "code",
   "execution_count": 5,
   "metadata": {},
   "outputs": [
    {
     "name": "stdout",
     "output_type": "stream",
     "text": [
      "{'director': 'John Lasseter', 'retorno_total_director': 27.65437835777778, 'peliculas': [{'nombre': 'Toy Story', 'anio': '1995-10-30', 'retorno_pelicula': 12.4518011, 'budget_pelicula': 30000000.0, 'revenue_pelicula': 373554033.0}, {'nombre': \"A Bug's Life\", 'anio': '1998-11-25', 'retorno_pelicula': 3.027157158333333, 'budget_pelicula': 120000000.0, 'revenue_pelicula': 363258859.0}, {'nombre': 'Toy Story 2', 'anio': '1999-10-30', 'retorno_pelicula': 5.526298544444445, 'budget_pelicula': 90000000.0, 'revenue_pelicula': 497366869.0}, {'nombre': 'Cars', 'anio': '2006-06-08', 'retorno_pelicula': 3.849859575, 'budget_pelicula': 120000000.0, 'revenue_pelicula': 461983149.0}, {'nombre': 'Cars 2', 'anio': '2011-06-11', 'retorno_pelicula': 2.79926198, 'budget_pelicula': 200000000.0, 'revenue_pelicula': 559852396.0}]}\n"
     ]
    }
   ],
   "source": [
    "resultado = get_director('John Lasseter')\n",
    "print(resultado)"
   ]
  }
 ],
 "metadata": {
  "kernelspec": {
   "display_name": "Python 3",
   "language": "python",
   "name": "python3"
  },
  "language_info": {
   "codemirror_mode": {
    "name": "ipython",
    "version": 3
   },
   "file_extension": ".py",
   "mimetype": "text/x-python",
   "name": "python",
   "nbconvert_exporter": "python",
   "pygments_lexer": "ipython3",
   "version": "3.11.1"
  },
  "orig_nbformat": 4
 },
 "nbformat": 4,
 "nbformat_minor": 2
}
