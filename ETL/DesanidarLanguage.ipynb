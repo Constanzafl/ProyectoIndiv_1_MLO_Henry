{
 "cells": [
  {
   "cell_type": "code",
   "execution_count": 46,
   "metadata": {},
   "outputs": [],
   "source": [
    "import pandas as pd\n",
    "import numpy as np\n",
    "import matplotlib.pyplot as plt\n",
    "import seaborn as sns\n",
    "import datetime \n",
    "import ast\n",
    "import json"
   ]
  },
  {
   "cell_type": "code",
   "execution_count": 47,
   "metadata": {},
   "outputs": [],
   "source": [
    "pd.set_option('display.max_colwidth', None)"
   ]
  },
  {
   "cell_type": "code",
   "execution_count": 48,
   "metadata": {},
   "outputs": [
    {
     "data": {
      "text/html": [
       "<div>\n",
       "<style scoped>\n",
       "    .dataframe tbody tr th:only-of-type {\n",
       "        vertical-align: middle;\n",
       "    }\n",
       "\n",
       "    .dataframe tbody tr th {\n",
       "        vertical-align: top;\n",
       "    }\n",
       "\n",
       "    .dataframe thead th {\n",
       "        text-align: right;\n",
       "    }\n",
       "</style>\n",
       "<table border=\"1\" class=\"dataframe\">\n",
       "  <thead>\n",
       "    <tr style=\"text-align: right;\">\n",
       "      <th></th>\n",
       "      <th>id</th>\n",
       "      <th>original_language</th>\n",
       "    </tr>\n",
       "  </thead>\n",
       "  <tbody>\n",
       "    <tr>\n",
       "      <th>0</th>\n",
       "      <td>862</td>\n",
       "      <td>en</td>\n",
       "    </tr>\n",
       "    <tr>\n",
       "      <th>1</th>\n",
       "      <td>15602</td>\n",
       "      <td>en</td>\n",
       "    </tr>\n",
       "    <tr>\n",
       "      <th>2</th>\n",
       "      <td>11862</td>\n",
       "      <td>en</td>\n",
       "    </tr>\n",
       "    <tr>\n",
       "      <th>3</th>\n",
       "      <td>710</td>\n",
       "      <td>en</td>\n",
       "    </tr>\n",
       "    <tr>\n",
       "      <th>4</th>\n",
       "      <td>21032</td>\n",
       "      <td>en</td>\n",
       "    </tr>\n",
       "  </tbody>\n",
       "</table>\n",
       "</div>"
      ],
      "text/plain": [
       "      id original_language\n",
       "0    862                en\n",
       "1  15602                en\n",
       "2  11862                en\n",
       "3    710                en\n",
       "4  21032                en"
      ]
     },
     "execution_count": 48,
     "metadata": {},
     "output_type": "execute_result"
    }
   ],
   "source": [
    "dflenguage= pd.read_csv(r'C:\\Users\\flori\\Desktop\\DATA SCIENCE\\LABS\\Trabajos\\Proyecto_Indiv_1_MLO_Henry\\ETL\\Language.csv')\n",
    "dflenguage.head()"
   ]
  },
  {
   "cell_type": "code",
   "execution_count": 49,
   "metadata": {},
   "outputs": [
    {
     "name": "stdout",
     "output_type": "stream",
     "text": [
      "['en', 'ru', 'fr', 'bn', 'ja', 'wo', 'cn', 'it', 'da', 'es', 'de', 'pt', 'zh', 'hu', 'sv', 'pl', 'tr', 'fi', 'cs', 'hi', 'el', 'he', 'th', 'fa', 'ko', 'no', 'uk', 'nl', 'id', '104.0', 'nb', 'ar', 'pa', '68.0', 'et', 'te', 'ml', '82.0', 'ta', 'sr']\n"
     ]
    }
   ],
   "source": [
    "lenguage_original = dflenguage['original_language'].unique().tolist()\n",
    "print(lenguage_original)"
   ]
  },
  {
   "cell_type": "code",
   "execution_count": 50,
   "metadata": {},
   "outputs": [
    {
     "data": {
      "text/plain": [
       "40"
      ]
     },
     "execution_count": 50,
     "metadata": {},
     "output_type": "execute_result"
    }
   ],
   "source": [
    "len(lenguage_original)"
   ]
  },
  {
   "cell_type": "code",
   "execution_count": 83,
   "metadata": {},
   "outputs": [],
   "source": [
    "# Ejemplo de cómo usar 'groupby()':\n",
    "grouped_data = dflenguage.groupby(dflenguage['original_language'])\n"
   ]
  },
  {
   "cell_type": "code",
   "execution_count": 87,
   "metadata": {},
   "outputs": [],
   "source": [
    "# Si deseas realizar una operación de agregación en los grupos, por ejemplo, obtener la suma de los valores de 'id':\n",
    "sum_of_ids_by_language = grouped_data.value_counts()\n"
   ]
  },
  {
   "cell_type": "code",
   "execution_count": 88,
   "metadata": {},
   "outputs": [
    {
     "name": "stdout",
     "output_type": "stream",
     "text": [
      "original_language  id        \n",
      "104.0              1997-08-20    1\n",
      "68.0               2012-09-29    1\n",
      "82.0               2014-01-01    1\n",
      "ar                 215407        1\n",
      "bn                 5801          1\n",
      "                                ..\n",
      "zh                 104606        1\n",
      "                   11647         1\n",
      "                   119892        1\n",
      "                   120143        1\n",
      "                   98344         1\n",
      "Length: 4488, dtype: int64\n"
     ]
    }
   ],
   "source": [
    "print(sum_of_ids_by_language)\n"
   ]
  },
  {
   "cell_type": "markdown",
   "metadata": {},
   "source": [
    "Desanido la columna del lenguage para saber el codigo iso \n"
   ]
  },
  {
   "cell_type": "code",
   "execution_count": null,
   "metadata": {},
   "outputs": [],
   "source": [
    "### no hace falta desanidarrrrr!"
   ]
  },
  {
   "cell_type": "code",
   "execution_count": 7,
   "metadata": {},
   "outputs": [
    {
     "data": {
      "text/html": [
       "<div>\n",
       "<style scoped>\n",
       "    .dataframe tbody tr th:only-of-type {\n",
       "        vertical-align: middle;\n",
       "    }\n",
       "\n",
       "    .dataframe tbody tr th {\n",
       "        vertical-align: top;\n",
       "    }\n",
       "\n",
       "    .dataframe thead th {\n",
       "        text-align: right;\n",
       "    }\n",
       "</style>\n",
       "<table border=\"1\" class=\"dataframe\">\n",
       "  <thead>\n",
       "    <tr style=\"text-align: right;\">\n",
       "      <th></th>\n",
       "      <th>iso_639_1</th>\n",
       "      <th>name</th>\n",
       "    </tr>\n",
       "  </thead>\n",
       "  <tbody>\n",
       "    <tr>\n",
       "      <th>0</th>\n",
       "      <td>en</td>\n",
       "      <td>English</td>\n",
       "    </tr>\n",
       "    <tr>\n",
       "      <th>1</th>\n",
       "      <td>en</td>\n",
       "      <td>English</td>\n",
       "    </tr>\n",
       "    <tr>\n",
       "      <th>2</th>\n",
       "      <td>en</td>\n",
       "      <td>English</td>\n",
       "    </tr>\n",
       "    <tr>\n",
       "      <th>3</th>\n",
       "      <td>en</td>\n",
       "      <td>English</td>\n",
       "    </tr>\n",
       "    <tr>\n",
       "      <th>4</th>\n",
       "      <td>ru</td>\n",
       "      <td>Pусский</td>\n",
       "    </tr>\n",
       "  </tbody>\n",
       "</table>\n",
       "</div>"
      ],
      "text/plain": [
       "  iso_639_1     name\n",
       "0        en  English\n",
       "1        en  English\n",
       "2        en  English\n",
       "3        en  English\n",
       "4        ru  Pусский"
      ]
     },
     "execution_count": 7,
     "metadata": {},
     "output_type": "execute_result"
    }
   ],
   "source": [
    "def convertir_columna_diccionarios_a_dataframe(df, columna):\n",
    "    # Obtener la columna que contiene los diccionarios\n",
    "    column_data = df[columna]\n",
    "\n",
    "    # Convertir los diccionarios a listas de diccionarios\n",
    "    lista_diccionarios = column_data.apply(lambda x: eval(x) if pd.notna(x) else [])\n",
    "\n",
    "    # Filtrar y eliminar los valores booleanos\n",
    "    lista_diccionarios = [d for sublist in lista_diccionarios if isinstance(sublist, list) for d in sublist]\n",
    "\n",
    "    # Crear el DataFrame resultante y seleccionar las columnas deseadas\n",
    "    df_lenguage = pd.DataFrame(lista_diccionarios, columns=['iso_639_1', 'name'])\n",
    "\n",
    "    return df_lenguage\n",
    "\n",
    "# Aplicar la función al DataFrame y obtener el DataFrame resultante\n",
    "df_lenguage = convertir_columna_diccionarios_a_dataframe(dflenguage, 'spoken_languages')\n",
    "\n",
    "# Mostrar las primeras filas del DataFrame resultante\n",
    "df_lenguage.head()\n"
   ]
  },
  {
   "cell_type": "code",
   "execution_count": 8,
   "metadata": {},
   "outputs": [
    {
     "name": "stdout",
     "output_type": "stream",
     "text": [
      "['English', 'Pусский', 'Español', 'Magyar', 'Deutsch', 'Română', 'Bahasa indonesia', 'Bahasa melayu', 'Français', '', 'Polski', 'svenska', 'Latin', '日本語', 'Italiano', '广州话 / 廣州話', 'Český', 'বাংলা', 'العربية', 'Wolof', 'ภาษาไทย', 'Português', 'עִבְרִית', 'ελληνικά', 'suomi', 'Український', '普通话', 'Dansk', 'Türkçe', 'Afrikaans', 'Íslenska', '한국어/조선말', 'Norsk', 'Tiếng Việt', 'Nederlands', 'shqip', 'Gaeilge', 'اردو', 'Slovenčina', 'Esperanto', 'isiZulu', 'Català', 'हिन्दी', 'Hrvatski', 'Kiswahili', 'Srpski', 'فارسی', 'български език', 'ਪੰਜਾਬੀ', 'No Language', 'తెలుగు', 'euskera', 'Eesti', 'தமிழ்', 'Galego', 'Latviešu']\n"
     ]
    }
   ],
   "source": [
    "idioma= df_lenguage['name'].unique().tolist()\n",
    "print(idioma)"
   ]
  },
  {
   "cell_type": "code",
   "execution_count": 9,
   "metadata": {},
   "outputs": [
    {
     "name": "stdout",
     "output_type": "stream",
     "text": [
      "['en', 'ru', 'es', 'hu', 'de', 'ro', 'id', 'ms', 'fr', 'mi', 'pl', 'sv', 'la', 'ja', 'it', 'cn', 'cs', 'bn', 'ar', 'wo', 'th', 'pt', 'he', 'ne', 'el', 'fi', 'uk', 'zh', 'da', 'tr', 'af', 'is', 'ko', 'no', 'si', 'vi', 'nl', 'sq', 'gd', 'ga', 'ur', 'sk', 'sh', 'eo', 'oc', 'zu', 'ca', 'hi', 'hr', 'iu', 'sw', 'sr', 'fa', 'tl', 'yi', 'mn', 'my', 'sa', 'tt', 'bg', 'pa', 'gu', 'mr', 'xx', 'jv', 'br', 'te', 'eu', 'et', 'ml', 'ta', 'gl', 'lv', 'km']\n"
     ]
    }
   ],
   "source": [
    "lista_codigo= df_lenguage['iso_639_1'].unique().tolist()\n",
    "print(lista_codigo)"
   ]
  },
  {
   "cell_type": "code",
   "execution_count": 10,
   "metadata": {},
   "outputs": [
    {
     "data": {
      "text/plain": [
       "56"
      ]
     },
     "execution_count": 10,
     "metadata": {},
     "output_type": "execute_result"
    }
   ],
   "source": [
    "len(idioma)"
   ]
  },
  {
   "cell_type": "code",
   "execution_count": 11,
   "metadata": {},
   "outputs": [
    {
     "data": {
      "text/plain": [
       "74"
      ]
     },
     "execution_count": 11,
     "metadata": {},
     "output_type": "execute_result"
    }
   ],
   "source": [
    "len(lista_codigo)"
   ]
  },
  {
   "cell_type": "code",
   "execution_count": 26,
   "metadata": {},
   "outputs": [
    {
     "data": {
      "text/plain": [
       "(5960, 2)"
      ]
     },
     "execution_count": 26,
     "metadata": {},
     "output_type": "execute_result"
    }
   ],
   "source": [
    "df_lenguage.shape"
   ]
  },
  {
   "cell_type": "code",
   "execution_count": 27,
   "metadata": {},
   "outputs": [],
   "source": [
    "#cambio el nombre de la columna para poder unirlos\n",
    "df_lenguage1 = df_lenguage.rename(columns={'iso_639_1': 'codigo'})"
   ]
  },
  {
   "cell_type": "code",
   "execution_count": 22,
   "metadata": {},
   "outputs": [],
   "source": [
    "#df_idioma = pd.merge(dflenguage, df_lenguage, left_index=True, right_index=True"
   ]
  },
  {
   "cell_type": "code",
   "execution_count": 23,
   "metadata": {},
   "outputs": [
    {
     "data": {
      "text/html": [
       "<div>\n",
       "<style scoped>\n",
       "    .dataframe tbody tr th:only-of-type {\n",
       "        vertical-align: middle;\n",
       "    }\n",
       "\n",
       "    .dataframe tbody tr th {\n",
       "        vertical-align: top;\n",
       "    }\n",
       "\n",
       "    .dataframe thead th {\n",
       "        text-align: right;\n",
       "    }\n",
       "</style>\n",
       "<table border=\"1\" class=\"dataframe\">\n",
       "  <thead>\n",
       "    <tr style=\"text-align: right;\">\n",
       "      <th></th>\n",
       "      <th>id</th>\n",
       "      <th>original_language</th>\n",
       "    </tr>\n",
       "  </thead>\n",
       "  <tbody>\n",
       "    <tr>\n",
       "      <th>0</th>\n",
       "      <td>862</td>\n",
       "      <td>en</td>\n",
       "    </tr>\n",
       "    <tr>\n",
       "      <th>1</th>\n",
       "      <td>15602</td>\n",
       "      <td>en</td>\n",
       "    </tr>\n",
       "    <tr>\n",
       "      <th>2</th>\n",
       "      <td>11862</td>\n",
       "      <td>en</td>\n",
       "    </tr>\n",
       "    <tr>\n",
       "      <th>3</th>\n",
       "      <td>710</td>\n",
       "      <td>en</td>\n",
       "    </tr>\n",
       "    <tr>\n",
       "      <th>4</th>\n",
       "      <td>21032</td>\n",
       "      <td>en</td>\n",
       "    </tr>\n",
       "  </tbody>\n",
       "</table>\n",
       "</div>"
      ],
      "text/plain": [
       "      id original_language\n",
       "0    862                en\n",
       "1  15602                en\n",
       "2  11862                en\n",
       "3    710                en\n",
       "4  21032                en"
      ]
     },
     "execution_count": 23,
     "metadata": {},
     "output_type": "execute_result"
    }
   ],
   "source": [
    "dflenguage2 = dflenguage.drop(columns=['spoken_languages'])\n",
    "dflenguage2.head()"
   ]
  },
  {
   "cell_type": "code",
   "execution_count": 25,
   "metadata": {},
   "outputs": [
    {
     "data": {
      "text/plain": [
       "(4491, 2)"
      ]
     },
     "execution_count": 25,
     "metadata": {},
     "output_type": "execute_result"
    }
   ],
   "source": [
    "#cambio el nombre de la columna para poder unirlos\n",
    "dflenguage22 = dflenguage2.rename(columns={'original_language': 'codigo'})\n",
    "dflenguage22.shape"
   ]
  },
  {
   "cell_type": "code",
   "execution_count": null,
   "metadata": {},
   "outputs": [],
   "source": []
  },
  {
   "cell_type": "code",
   "execution_count": 44,
   "metadata": {},
   "outputs": [
    {
     "data": {
      "text/plain": [
       "(10107297, 3)"
      ]
     },
     "execution_count": 44,
     "metadata": {},
     "output_type": "execute_result"
    }
   ],
   "source": [
    "df_idioma2.shape"
   ]
  },
  {
   "cell_type": "code",
   "execution_count": null,
   "metadata": {},
   "outputs": [],
   "source": []
  }
 ],
 "metadata": {
  "kernelspec": {
   "display_name": "Python 3",
   "language": "python",
   "name": "python3"
  },
  "language_info": {
   "codemirror_mode": {
    "name": "ipython",
    "version": 3
   },
   "file_extension": ".py",
   "mimetype": "text/x-python",
   "name": "python",
   "nbconvert_exporter": "python",
   "pygments_lexer": "ipython3",
   "version": "3.11.1"
  },
  "orig_nbformat": 4
 },
 "nbformat": 4,
 "nbformat_minor": 2
}
