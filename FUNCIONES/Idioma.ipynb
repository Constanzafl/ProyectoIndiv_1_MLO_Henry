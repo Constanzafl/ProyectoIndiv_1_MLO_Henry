{
 "cells": [
  {
   "cell_type": "code",
   "execution_count": 7,
   "metadata": {},
   "outputs": [],
   "source": [
    "import pandas as pd"
   ]
  },
  {
   "cell_type": "code",
   "execution_count": 8,
   "metadata": {},
   "outputs": [],
   "source": [
    "#dfidiomas= pd.read_csv(r'C:\\Users\\flori\\Desktop\\DATA SCIENCE\\LABS\\Trabajos\\Proyecto_Indiv_1_MLO_Henry\\ETL\\DESANIDANDO\\LenguageCANTIDAD.csv')\n"
   ]
  },
  {
   "cell_type": "code",
   "execution_count": 9,
   "metadata": {},
   "outputs": [],
   "source": [
    "## Creo una funcion para obtener la cantidad de peliculas en determinado idioma\n",
    "\n",
    "def peliculas_idioma(idioma: str):\n",
    "    dfidiomas= pd.read_csv(r'C:\\Users\\flori\\Desktop\\DATA SCIENCE\\LABS\\Trabajos\\Proyecto_Indiv_1_MLO_Henry\\ETL\\DESANIDANDO\\LenguageCANTIDAD.csv')\n",
    "    # Filtrar el DataFrame para obtener las películas en el idioma dado\n",
    "    peliculas_en_idioma = dfidiomas[dfidiomas['original_language'] == idioma]\n",
    "    \n",
    "    # Si no hay películas en el idioma dado, retornar None o un mensaje indicativo\n",
    "    if peliculas_en_idioma.empty:\n",
    "        return {'No hay peliculas en ese idioma'}\n",
    "    \n",
    "    # Obtener la cantidad de películas en el idioma dado\n",
    "    cantidad = peliculas_en_idioma['id'].sum()\n",
    "    \n",
    "    # Crear el diccionario de respuesta\n",
    "    respuesta = {'idioma': idioma, 'cantidad': cantidad}\n",
    "    \n",
    "    return respuesta\n",
    "\n"
   ]
  },
  {
   "cell_type": "code",
   "execution_count": 10,
   "metadata": {},
   "outputs": [
    {
     "name": "stdout",
     "output_type": "stream",
     "text": [
      "{'idioma': 'ru', 'cantidad': 816}\n"
     ]
    }
   ],
   "source": [
    "# Ejemplo de uso de la función\n",
    "resultado = peliculas_idioma('ru')\n",
    "print(resultado)"
   ]
  }
 ],
 "metadata": {
  "kernelspec": {
   "display_name": "Python 3",
   "language": "python",
   "name": "python3"
  },
  "language_info": {
   "codemirror_mode": {
    "name": "ipython",
    "version": 3
   },
   "file_extension": ".py",
   "mimetype": "text/x-python",
   "name": "python",
   "nbconvert_exporter": "python",
   "pygments_lexer": "ipython3",
   "version": "3.11.1"
  },
  "orig_nbformat": 4
 },
 "nbformat": 4,
 "nbformat_minor": 2
}
