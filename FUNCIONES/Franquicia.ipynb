{
 "cells": [
  {
   "cell_type": "code",
   "execution_count": 14,
   "metadata": {},
   "outputs": [],
   "source": [
    "import pandas as pd"
   ]
  },
  {
   "cell_type": "code",
   "execution_count": 15,
   "metadata": {},
   "outputs": [],
   "source": [
    "### para hacer esta funcion primero priorice crear un DF con los valores que me pide..\n",
    "## esta hecho en el archivo Desanidar COllections en la carpeta DESANIDANDO y lo transforme a CSV"
   ]
  },
  {
   "cell_type": "code",
   "execution_count": 20,
   "metadata": {},
   "outputs": [],
   "source": [
    "franquicia2= pd.read_csv(r'C:\\Users\\flori\\Desktop\\DATA SCIENCE\\LABS\\Trabajos\\Proyecto_Indiv_1_MLO_Henry\\ETL\\DESANIDANDO\\Franquicias.csv')"
   ]
  },
  {
   "cell_type": "code",
   "execution_count": 21,
   "metadata": {},
   "outputs": [
    {
     "data": {
      "text/html": [
       "<div>\n",
       "<style scoped>\n",
       "    .dataframe tbody tr th:only-of-type {\n",
       "        vertical-align: middle;\n",
       "    }\n",
       "\n",
       "    .dataframe tbody tr th {\n",
       "        vertical-align: top;\n",
       "    }\n",
       "\n",
       "    .dataframe thead th {\n",
       "        text-align: right;\n",
       "    }\n",
       "</style>\n",
       "<table border=\"1\" class=\"dataframe\">\n",
       "  <thead>\n",
       "    <tr style=\"text-align: right;\">\n",
       "      <th></th>\n",
       "      <th>NAME</th>\n",
       "      <th>id</th>\n",
       "      <th>revenue_x</th>\n",
       "      <th>revenue_y</th>\n",
       "    </tr>\n",
       "  </thead>\n",
       "  <tbody>\n",
       "    <tr>\n",
       "      <th>0</th>\n",
       "      <td>... Has Fallen Collection</td>\n",
       "      <td>2</td>\n",
       "      <td>366780087.0</td>\n",
       "      <td>1.833900e+08</td>\n",
       "    </tr>\n",
       "    <tr>\n",
       "      <th>1</th>\n",
       "      <td>00 Schneider Filmreihe</td>\n",
       "      <td>1</td>\n",
       "      <td>0.0</td>\n",
       "      <td>0.000000e+00</td>\n",
       "    </tr>\n",
       "    <tr>\n",
       "      <th>2</th>\n",
       "      <td>100 Girls Collection</td>\n",
       "      <td>2</td>\n",
       "      <td>0.0</td>\n",
       "      <td>0.000000e+00</td>\n",
       "    </tr>\n",
       "    <tr>\n",
       "      <th>3</th>\n",
       "      <td>101 Dalmatians (Animated) Collection</td>\n",
       "      <td>2</td>\n",
       "      <td>215880014.0</td>\n",
       "      <td>1.079400e+08</td>\n",
       "    </tr>\n",
       "    <tr>\n",
       "      <th>4</th>\n",
       "      <td>101 Dalmatians (Live-Action) Collection</td>\n",
       "      <td>2</td>\n",
       "      <td>504301065.0</td>\n",
       "      <td>2.521505e+08</td>\n",
       "    </tr>\n",
       "    <tr>\n",
       "      <th>5</th>\n",
       "      <td>12 Rounds Collection</td>\n",
       "      <td>3</td>\n",
       "      <td>17280326.0</td>\n",
       "      <td>5.760109e+06</td>\n",
       "    </tr>\n",
       "    <tr>\n",
       "      <th>6</th>\n",
       "      <td>1920 Collection</td>\n",
       "      <td>2</td>\n",
       "      <td>0.0</td>\n",
       "      <td>0.000000e+00</td>\n",
       "    </tr>\n",
       "    <tr>\n",
       "      <th>7</th>\n",
       "      <td>2 Days In... Collection</td>\n",
       "      <td>2</td>\n",
       "      <td>21429951.0</td>\n",
       "      <td>1.071498e+07</td>\n",
       "    </tr>\n",
       "    <tr>\n",
       "      <th>8</th>\n",
       "      <td>20th Century Boys Collection</td>\n",
       "      <td>3</td>\n",
       "      <td>31244858.0</td>\n",
       "      <td>1.041495e+07</td>\n",
       "    </tr>\n",
       "    <tr>\n",
       "      <th>9</th>\n",
       "      <td>28 Days/Weeks Later Collection</td>\n",
       "      <td>2</td>\n",
       "      <td>146958325.0</td>\n",
       "      <td>7.347916e+07</td>\n",
       "    </tr>\n",
       "  </tbody>\n",
       "</table>\n",
       "</div>"
      ],
      "text/plain": [
       "                                      NAME  id    revenue_x     revenue_y\n",
       "0                ... Has Fallen Collection   2  366780087.0  1.833900e+08\n",
       "1                   00 Schneider Filmreihe   1          0.0  0.000000e+00\n",
       "2                     100 Girls Collection   2          0.0  0.000000e+00\n",
       "3     101 Dalmatians (Animated) Collection   2  215880014.0  1.079400e+08\n",
       "4  101 Dalmatians (Live-Action) Collection   2  504301065.0  2.521505e+08\n",
       "5                     12 Rounds Collection   3   17280326.0  5.760109e+06\n",
       "6                          1920 Collection   2          0.0  0.000000e+00\n",
       "7                  2 Days In... Collection   2   21429951.0  1.071498e+07\n",
       "8             20th Century Boys Collection   3   31244858.0  1.041495e+07\n",
       "9           28 Days/Weeks Later Collection   2  146958325.0  7.347916e+07"
      ]
     },
     "execution_count": 21,
     "metadata": {},
     "output_type": "execute_result"
    }
   ],
   "source": [
    "# Traigo el DF con nombre de la Franquicia, Cantidad de pelis('id'), Ganancia total('revenue_x) y Ganancia promedio ('revenue_y')\n",
    "franquicia2.head(10)"
   ]
  },
  {
   "cell_type": "code",
   "execution_count": 34,
   "metadata": {},
   "outputs": [],
   "source": [
    "def franquicia(franquicia: str):\n",
    "    # Filtrar el DataFrame para obtener las películas de la franquicia dada\n",
    "    peliculas_franquicia = franquicia2[franquicia2['NAME'] == franquicia]\n",
    "    \n",
    "    # Verificar si se encontraron películas para la franquicia dada\n",
    "    if peliculas_franquicia.empty:\n",
    "        return None  # O un mensaje indicativo de que no se encontraron películas\n",
    "    \n",
    "    # Obtener la cantidad de peliculas en el idioma dado\n",
    "    cantidad = peliculas_franquicia['id'].values[0]\n",
    "    \n",
    "    # Obtener la ganancia total de la franquicia\n",
    "    ganancia_total = peliculas_franquicia['revenue_x'].values[0]\n",
    "    \n",
    "    # Obtener la ganancia promedio de la franquicia\n",
    "    ganancia_promedio = peliculas_franquicia['revenue_y'].values[0]\n",
    "    \n",
    "    # Crear el diccionario de respuesta\n",
    "    respuesta = {\n",
    "        'franquicia': franquicia,\n",
    "        'cantidad': cantidad,\n",
    "        'ganancia_total': ganancia_total,\n",
    "        'ganancia_promedio': ganancia_promedio\n",
    "    }\n",
    "    \n",
    "    return respuesta\n",
    "\n"
   ]
  },
  {
   "cell_type": "code",
   "execution_count": 32,
   "metadata": {},
   "outputs": [
    {
     "name": "stdout",
     "output_type": "stream",
     "text": [
      "{'franquicia': '... Has Fallen Collection', 'cantidad': 2, 'ganancia_total': 366780087.0, 'ganancia_promedio': 183390043.5}\n"
     ]
    }
   ],
   "source": [
    "# Ejemplo de uso de la función\n",
    "resultado = franquicia('... Has Fallen Collection')\n",
    "print(resultado)"
   ]
  },
  {
   "cell_type": "code",
   "execution_count": 33,
   "metadata": {},
   "outputs": [
    {
     "name": "stdout",
     "output_type": "stream",
     "text": [
      "{'franquicia': 'Toy Story Collection', 'cantidad': 3, 'ganancia_total': 1937890605.0, 'ganancia_promedio': 645963535.0}\n"
     ]
    }
   ],
   "source": [
    "resultado = franquicia('Toy Story Collection')\n",
    "print(resultado)"
   ]
  }
 ],
 "metadata": {
  "kernelspec": {
   "display_name": "Python 3",
   "language": "python",
   "name": "python3"
  },
  "language_info": {
   "codemirror_mode": {
    "name": "ipython",
    "version": 3
   },
   "file_extension": ".py",
   "mimetype": "text/x-python",
   "name": "python",
   "nbconvert_exporter": "python",
   "pygments_lexer": "ipython3",
   "version": "3.11.1"
  },
  "orig_nbformat": 4
 },
 "nbformat": 4,
 "nbformat_minor": 2
}
