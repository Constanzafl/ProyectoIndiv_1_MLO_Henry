{
 "cells": [
  {
   "cell_type": "code",
   "execution_count": 1,
   "metadata": {},
   "outputs": [],
   "source": [
    "import pandas as pd\n",
    "import numpy as np\n",
    "from sklearn.feature_extraction.text import TfidfVectorizer\n"
   ]
  },
  {
   "cell_type": "code",
   "execution_count": 6,
   "metadata": {},
   "outputs": [
    {
     "name": "stdout",
     "output_type": "stream",
     "text": [
      "<class 'pandas.core.frame.DataFrame'>\n",
      "RangeIndex: 44936 entries, 0 to 44935\n",
      "Data columns (total 11 columns):\n",
      " #   Column             Non-Null Count  Dtype  \n",
      "---  ------             --------------  -----  \n",
      " 0   budget             44936 non-null  float64\n",
      " 1   id                 44936 non-null  int64  \n",
      " 2   original_language  44926 non-null  object \n",
      " 3   overview           44029 non-null  object \n",
      " 4   popularity         44936 non-null  float64\n",
      " 5   release_date       44936 non-null  object \n",
      " 6   revenue            44936 non-null  float64\n",
      " 7   runtime            44696 non-null  float64\n",
      " 8   title              44936 non-null  object \n",
      " 9   release_year       44936 non-null  float64\n",
      " 10  return             10879 non-null  float64\n",
      "dtypes: float64(6), int64(1), object(4)\n",
      "memory usage: 3.8+ MB\n"
     ]
    }
   ],
   "source": [
    "df_movies= pd.read_csv(r'C:\\Users\\flori\\Desktop\\DATA SCIENCE\\LABS\\Trabajos\\Proyecto_Indiv_1_MLO_Henry\\ETL\\A-ETLconsignas\\MoviesSMALL.csv')\n",
    "df_movies.info()"
   ]
  },
  {
   "cell_type": "code",
   "execution_count": 7,
   "metadata": {},
   "outputs": [],
   "source": [
    "df_movies[\"overview\"] = df_movies[\"overview\"].astype(str)"
   ]
  },
  {
   "cell_type": "code",
   "execution_count": 8,
   "metadata": {},
   "outputs": [
    {
     "data": {
      "text/plain": [
       "0    Led by Woody, Andy's toys live happily in his ...\n",
       "1    When siblings Judy and Peter discover an encha...\n",
       "2    A family wedding reignites the ancient feud be...\n",
       "3    Cheated on, mistreated and stepped on, the wom...\n",
       "4    Just when George Banks has recovered from his ...\n",
       "Name: overview, dtype: object"
      ]
     },
     "execution_count": 8,
     "metadata": {},
     "output_type": "execute_result"
    }
   ],
   "source": [
    "df_movies['overview'].head()"
   ]
  },
  {
   "cell_type": "code",
   "execution_count": 9,
   "metadata": {},
   "outputs": [],
   "source": [
    "columnas_elim=['budget','release_year', 'release_date', 'runtime', 'revenue', 'return','original_language']\n",
    "df_movies2 = df_movies.drop(columns=columnas_elim)\n",
    "df_movies_sorted= df_movies2.sort_values(ascending=False, by='popularity')"
   ]
  },
  {
   "cell_type": "code",
   "execution_count": 10,
   "metadata": {},
   "outputs": [],
   "source": [
    "df_top_5= df_movies_sorted.head(15000) "
   ]
  },
  {
   "cell_type": "code",
   "execution_count": 11,
   "metadata": {},
   "outputs": [
    {
     "data": {
      "text/html": [
       "<div>\n",
       "<style scoped>\n",
       "    .dataframe tbody tr th:only-of-type {\n",
       "        vertical-align: middle;\n",
       "    }\n",
       "\n",
       "    .dataframe tbody tr th {\n",
       "        vertical-align: top;\n",
       "    }\n",
       "\n",
       "    .dataframe thead th {\n",
       "        text-align: right;\n",
       "    }\n",
       "</style>\n",
       "<table border=\"1\" class=\"dataframe\">\n",
       "  <thead>\n",
       "    <tr style=\"text-align: right;\">\n",
       "      <th></th>\n",
       "      <th>id</th>\n",
       "      <th>overview</th>\n",
       "      <th>popularity</th>\n",
       "      <th>title</th>\n",
       "    </tr>\n",
       "  </thead>\n",
       "  <tbody>\n",
       "    <tr>\n",
       "      <th>30443</th>\n",
       "      <td>211672</td>\n",
       "      <td>Minions Stuart, Kevin and Bob are recruited by...</td>\n",
       "      <td>547.488298</td>\n",
       "      <td>Minions</td>\n",
       "    </tr>\n",
       "    <tr>\n",
       "      <th>33060</th>\n",
       "      <td>297762</td>\n",
       "      <td>An Amazon princess comes to the world of Man t...</td>\n",
       "      <td>294.337037</td>\n",
       "      <td>Wonder Woman</td>\n",
       "    </tr>\n",
       "    <tr>\n",
       "      <th>41779</th>\n",
       "      <td>321612</td>\n",
       "      <td>A live-action adaptation of Disney's version o...</td>\n",
       "      <td>287.253654</td>\n",
       "      <td>Beauty and the Beast</td>\n",
       "    </tr>\n",
       "    <tr>\n",
       "      <th>43170</th>\n",
       "      <td>339403</td>\n",
       "      <td>After being coerced into working for a crime b...</td>\n",
       "      <td>228.032744</td>\n",
       "      <td>Baby Driver</td>\n",
       "    </tr>\n",
       "    <tr>\n",
       "      <th>24267</th>\n",
       "      <td>177572</td>\n",
       "      <td>The special bond that develops between plus-si...</td>\n",
       "      <td>213.849907</td>\n",
       "      <td>Big Hero 6</td>\n",
       "    </tr>\n",
       "  </tbody>\n",
       "</table>\n",
       "</div>"
      ],
      "text/plain": [
       "           id                                           overview  popularity  \\\n",
       "30443  211672  Minions Stuart, Kevin and Bob are recruited by...  547.488298   \n",
       "33060  297762  An Amazon princess comes to the world of Man t...  294.337037   \n",
       "41779  321612  A live-action adaptation of Disney's version o...  287.253654   \n",
       "43170  339403  After being coerced into working for a crime b...  228.032744   \n",
       "24267  177572  The special bond that develops between plus-si...  213.849907   \n",
       "\n",
       "                      title  \n",
       "30443               Minions  \n",
       "33060          Wonder Woman  \n",
       "41779  Beauty and the Beast  \n",
       "43170           Baby Driver  \n",
       "24267            Big Hero 6  "
      ]
     },
     "execution_count": 11,
     "metadata": {},
     "output_type": "execute_result"
    }
   ],
   "source": [
    "df_top_5.head()"
   ]
  },
  {
   "cell_type": "code",
   "execution_count": 12,
   "metadata": {},
   "outputs": [],
   "source": [
    "df_top_5.to_csv('Top15kpelis.csv', index=False)"
   ]
  },
  {
   "cell_type": "code",
   "execution_count": 13,
   "metadata": {},
   "outputs": [],
   "source": [
    "## Defino un objeto vectorizador TF-IDF. Elimino las palabras vacias en infles como 'the', 'a'\n",
    "tfidf= TfidfVectorizer(stop_words='english')\n"
   ]
  },
  {
   "cell_type": "code",
   "execution_count": 14,
   "metadata": {},
   "outputs": [
    {
     "data": {
      "text/plain": [
       "(15000, 38004)"
      ]
     },
     "execution_count": 14,
     "metadata": {},
     "output_type": "execute_result"
    }
   ],
   "source": [
    "df_movies2['overview'] = df_top_5['overview'].fillna('')\n",
    "\n",
    "tfidf_matrix = tfidf.fit_transform(df_top_5['overview'])\n",
    "\n",
    "tfidf_matrix.shape"
   ]
  },
  {
   "cell_type": "markdown",
   "metadata": {},
   "source": [
    "usaremos linear_kernel()"
   ]
  },
  {
   "cell_type": "code",
   "execution_count": 15,
   "metadata": {},
   "outputs": [],
   "source": [
    "#Importamos\n",
    "from sklearn.metrics.pairwise import linear_kernel\n",
    "\n",
    "#Hacemos la matriz de la similaridad del coseno\n",
    "cosine_sim= linear_kernel(tfidf_matrix, tfidf_matrix)"
   ]
  },
  {
   "cell_type": "code",
   "execution_count": 16,
   "metadata": {},
   "outputs": [],
   "source": [
    "## Mecanismo para identificar el indice de una pelicula en nuestro DF dado su titulo\n",
    "indices=pd.Series(df_top_5.index, index=df_top_5['title']).drop_duplicates()"
   ]
  },
  {
   "cell_type": "code",
   "execution_count": 17,
   "metadata": {},
   "outputs": [],
   "source": [
    "## Definimos una funcion que tome el titulo de una pelicula como entrada y genere una lista de las 5 peliculas mas parecidas\n",
    "def recomendaciones (title, cosine_sim=cosine_sim):\n",
    "    idx= indices[title]\n",
    "    \n",
    "    sim_scores= list(enumerate(cosine_sim[idx]))\n",
    "    \n",
    "    sim_scores= sorted(sim_scores, key=lambda x : x[1], reverse=True)\n",
    "    \n",
    "    sim_scores=sim_scores[1:6]\n",
    "    \n",
    "    movies_indices= [i[0] for i in sim_scores]\n",
    "    \n",
    "    return df_top_5['title'].iloc[movies_indices]\n"
   ]
  },
  {
   "cell_type": "code",
   "execution_count": 18,
   "metadata": {},
   "outputs": [
    {
     "data": {
      "text/plain": [
       "21011                          Despicable Me 2\n",
       "8002     Sherlock Holmes and the Secret Weapon\n",
       "44615                                   Banana\n",
       "5319                           Stuart Little 2\n",
       "25987        Stuart Little 3: Call of the Wild\n",
       "Name: title, dtype: object"
      ]
     },
     "execution_count": 18,
     "metadata": {},
     "output_type": "execute_result"
    }
   ],
   "source": [
    "recomendaciones('Toy Story')"
   ]
  },
  {
   "cell_type": "code",
   "execution_count": 278,
   "metadata": {},
   "outputs": [],
   "source": [
    "### incorporo mas metricas \n",
    "## genre, cast, director, description, title"
   ]
  },
  {
   "cell_type": "code",
   "execution_count": 19,
   "metadata": {},
   "outputs": [
    {
     "data": {
      "text/html": [
       "<div>\n",
       "<style scoped>\n",
       "    .dataframe tbody tr th:only-of-type {\n",
       "        vertical-align: middle;\n",
       "    }\n",
       "\n",
       "    .dataframe tbody tr th {\n",
       "        vertical-align: top;\n",
       "    }\n",
       "\n",
       "    .dataframe thead th {\n",
       "        text-align: right;\n",
       "    }\n",
       "</style>\n",
       "<table border=\"1\" class=\"dataframe\">\n",
       "  <thead>\n",
       "    <tr style=\"text-align: right;\">\n",
       "      <th></th>\n",
       "      <th>id</th>\n",
       "      <th>overview</th>\n",
       "      <th>popularity</th>\n",
       "      <th>title</th>\n",
       "    </tr>\n",
       "  </thead>\n",
       "  <tbody>\n",
       "    <tr>\n",
       "      <th>30443</th>\n",
       "      <td>211672</td>\n",
       "      <td>Minions Stuart, Kevin and Bob are recruited by...</td>\n",
       "      <td>547.488298</td>\n",
       "      <td>Minions</td>\n",
       "    </tr>\n",
       "    <tr>\n",
       "      <th>33060</th>\n",
       "      <td>297762</td>\n",
       "      <td>An Amazon princess comes to the world of Man t...</td>\n",
       "      <td>294.337037</td>\n",
       "      <td>Wonder Woman</td>\n",
       "    </tr>\n",
       "    <tr>\n",
       "      <th>41779</th>\n",
       "      <td>321612</td>\n",
       "      <td>A live-action adaptation of Disney's version o...</td>\n",
       "      <td>287.253654</td>\n",
       "      <td>Beauty and the Beast</td>\n",
       "    </tr>\n",
       "    <tr>\n",
       "      <th>43170</th>\n",
       "      <td>339403</td>\n",
       "      <td>After being coerced into working for a crime b...</td>\n",
       "      <td>228.032744</td>\n",
       "      <td>Baby Driver</td>\n",
       "    </tr>\n",
       "    <tr>\n",
       "      <th>24267</th>\n",
       "      <td>177572</td>\n",
       "      <td>The special bond that develops between plus-si...</td>\n",
       "      <td>213.849907</td>\n",
       "      <td>Big Hero 6</td>\n",
       "    </tr>\n",
       "  </tbody>\n",
       "</table>\n",
       "</div>"
      ],
      "text/plain": [
       "           id                                           overview  popularity  \\\n",
       "30443  211672  Minions Stuart, Kevin and Bob are recruited by...  547.488298   \n",
       "33060  297762  An Amazon princess comes to the world of Man t...  294.337037   \n",
       "41779  321612  A live-action adaptation of Disney's version o...  287.253654   \n",
       "43170  339403  After being coerced into working for a crime b...  228.032744   \n",
       "24267  177572  The special bond that develops between plus-si...  213.849907   \n",
       "\n",
       "                      title  \n",
       "30443               Minions  \n",
       "33060          Wonder Woman  \n",
       "41779  Beauty and the Beast  \n",
       "43170           Baby Driver  \n",
       "24267            Big Hero 6  "
      ]
     },
     "execution_count": 19,
     "metadata": {},
     "output_type": "execute_result"
    }
   ],
   "source": [
    "df_top_5.head()"
   ]
  },
  {
   "cell_type": "code",
   "execution_count": 20,
   "metadata": {},
   "outputs": [
    {
     "data": {
      "text/plain": [
       "(15000, 4)"
      ]
     },
     "execution_count": 20,
     "metadata": {},
     "output_type": "execute_result"
    }
   ],
   "source": [
    "df_top_5.shape"
   ]
  },
  {
   "cell_type": "code",
   "execution_count": 21,
   "metadata": {},
   "outputs": [
    {
     "data": {
      "text/html": [
       "<div>\n",
       "<style scoped>\n",
       "    .dataframe tbody tr th:only-of-type {\n",
       "        vertical-align: middle;\n",
       "    }\n",
       "\n",
       "    .dataframe tbody tr th {\n",
       "        vertical-align: top;\n",
       "    }\n",
       "\n",
       "    .dataframe thead th {\n",
       "        text-align: right;\n",
       "    }\n",
       "</style>\n",
       "<table border=\"1\" class=\"dataframe\">\n",
       "  <thead>\n",
       "    <tr style=\"text-align: right;\">\n",
       "      <th></th>\n",
       "      <th>id</th>\n",
       "      <th>name_genres</th>\n",
       "    </tr>\n",
       "  </thead>\n",
       "  <tbody>\n",
       "    <tr>\n",
       "      <th>0</th>\n",
       "      <td>2</td>\n",
       "      <td>Drama,Crime</td>\n",
       "    </tr>\n",
       "    <tr>\n",
       "      <th>1</th>\n",
       "      <td>3</td>\n",
       "      <td>Drama,Comedy</td>\n",
       "    </tr>\n",
       "    <tr>\n",
       "      <th>2</th>\n",
       "      <td>5</td>\n",
       "      <td>Crime,Comedy</td>\n",
       "    </tr>\n",
       "    <tr>\n",
       "      <th>3</th>\n",
       "      <td>6</td>\n",
       "      <td>Action,Thriller,Crime</td>\n",
       "    </tr>\n",
       "    <tr>\n",
       "      <th>4</th>\n",
       "      <td>11</td>\n",
       "      <td>Adventure,Action,Science Fiction</td>\n",
       "    </tr>\n",
       "  </tbody>\n",
       "</table>\n",
       "</div>"
      ],
      "text/plain": [
       "   id                       name_genres\n",
       "0   2                       Drama,Crime\n",
       "1   3                      Drama,Comedy\n",
       "2   5                      Crime,Comedy\n",
       "3   6             Action,Thriller,Crime\n",
       "4  11  Adventure,Action,Science Fiction"
      ]
     },
     "execution_count": 21,
     "metadata": {},
     "output_type": "execute_result"
    }
   ],
   "source": [
    "df_genero=pd.read_csv(r'C:\\Users\\flori\\Desktop\\DATA SCIENCE\\LABS\\Trabajos\\Proyecto_Indiv_1_MLO_Henry\\ETL\\DESANIDANDO\\GenerosAgrupados.csv') \n",
    "df_genero.head()"
   ]
  },
  {
   "cell_type": "code",
   "execution_count": 22,
   "metadata": {},
   "outputs": [
    {
     "data": {
      "text/html": [
       "<div>\n",
       "<style scoped>\n",
       "    .dataframe tbody tr th:only-of-type {\n",
       "        vertical-align: middle;\n",
       "    }\n",
       "\n",
       "    .dataframe tbody tr th {\n",
       "        vertical-align: top;\n",
       "    }\n",
       "\n",
       "    .dataframe thead th {\n",
       "        text-align: right;\n",
       "    }\n",
       "</style>\n",
       "<table border=\"1\" class=\"dataframe\">\n",
       "  <thead>\n",
       "    <tr style=\"text-align: right;\">\n",
       "      <th></th>\n",
       "      <th>id</th>\n",
       "      <th>character</th>\n",
       "    </tr>\n",
       "  </thead>\n",
       "  <tbody>\n",
       "    <tr>\n",
       "      <th>0</th>\n",
       "      <td>2</td>\n",
       "      <td>Turo Pajala, Susanna Haavisto, Matti Pellonpä...</td>\n",
       "    </tr>\n",
       "    <tr>\n",
       "      <th>1</th>\n",
       "      <td>3</td>\n",
       "      <td>Matti Pellonpää, Kati Outinen, Sakari Kuosman...</td>\n",
       "    </tr>\n",
       "    <tr>\n",
       "      <th>2</th>\n",
       "      <td>5</td>\n",
       "      <td>Tim Roth, Antonio Banderas, Jennifer Beals, M...</td>\n",
       "    </tr>\n",
       "    <tr>\n",
       "      <th>3</th>\n",
       "      <td>6</td>\n",
       "      <td>Emilio Estevez, Cuba Gooding Jr., Denis Leary...</td>\n",
       "    </tr>\n",
       "    <tr>\n",
       "      <th>4</th>\n",
       "      <td>11</td>\n",
       "      <td>Mark Hamill, Harrison Ford, Carrie Fisher, Pe...</td>\n",
       "    </tr>\n",
       "  </tbody>\n",
       "</table>\n",
       "</div>"
      ],
      "text/plain": [
       "   id                                          character\n",
       "0   2   Turo Pajala, Susanna Haavisto, Matti Pellonpä...\n",
       "1   3   Matti Pellonpää, Kati Outinen, Sakari Kuosman...\n",
       "2   5   Tim Roth, Antonio Banderas, Jennifer Beals, M...\n",
       "3   6   Emilio Estevez, Cuba Gooding Jr., Denis Leary...\n",
       "4  11   Mark Hamill, Harrison Ford, Carrie Fisher, Pe..."
      ]
     },
     "execution_count": 22,
     "metadata": {},
     "output_type": "execute_result"
    }
   ],
   "source": [
    "df_cast= pd.read_csv(r'C:\\Users\\flori\\Desktop\\DATA SCIENCE\\LABS\\Trabajos\\Proyecto_Indiv_1_MLO_Henry\\ETL\\DESANIDANDO\\ActoresPorPEliID.csv')\n",
    "df_cast.rename(columns={\"id_original\": \"id\"}, inplace=True)\n",
    "df_cast.drop(columns='name', inplace=True)\n",
    "df_cast.head()"
   ]
  },
  {
   "cell_type": "code",
   "execution_count": 23,
   "metadata": {},
   "outputs": [
    {
     "data": {
      "text/html": [
       "<div>\n",
       "<style scoped>\n",
       "    .dataframe tbody tr th:only-of-type {\n",
       "        vertical-align: middle;\n",
       "    }\n",
       "\n",
       "    .dataframe tbody tr th {\n",
       "        vertical-align: top;\n",
       "    }\n",
       "\n",
       "    .dataframe thead th {\n",
       "        text-align: right;\n",
       "    }\n",
       "</style>\n",
       "<table border=\"1\" class=\"dataframe\">\n",
       "  <thead>\n",
       "    <tr style=\"text-align: right;\">\n",
       "      <th></th>\n",
       "      <th>id</th>\n",
       "      <th>name</th>\n",
       "    </tr>\n",
       "  </thead>\n",
       "  <tbody>\n",
       "    <tr>\n",
       "      <th>0</th>\n",
       "      <td>100</td>\n",
       "      <td>Guy Ritchie</td>\n",
       "    </tr>\n",
       "    <tr>\n",
       "      <th>1</th>\n",
       "      <td>10000</td>\n",
       "      <td>Sergio Cabrera</td>\n",
       "    </tr>\n",
       "    <tr>\n",
       "      <th>2</th>\n",
       "      <td>10001</td>\n",
       "      <td>Yahoo Serious</td>\n",
       "    </tr>\n",
       "    <tr>\n",
       "      <th>3</th>\n",
       "      <td>100010</td>\n",
       "      <td>Frank Borzage</td>\n",
       "    </tr>\n",
       "    <tr>\n",
       "      <th>4</th>\n",
       "      <td>100017</td>\n",
       "      <td>Angelina Maccarone</td>\n",
       "    </tr>\n",
       "  </tbody>\n",
       "</table>\n",
       "</div>"
      ],
      "text/plain": [
       "       id                name\n",
       "0     100         Guy Ritchie\n",
       "1   10000      Sergio Cabrera\n",
       "2   10001       Yahoo Serious\n",
       "3  100010       Frank Borzage\n",
       "4  100017  Angelina Maccarone"
      ]
     },
     "execution_count": 23,
     "metadata": {},
     "output_type": "execute_result"
    }
   ],
   "source": [
    "df_directores= pd.read_csv(r'C:\\Users\\flori\\Desktop\\DATA SCIENCE\\LABS\\Trabajos\\Proyecto_Indiv_1_MLO_Henry\\ETL\\DESANIDANDO\\directoresAgrupadosID.csv')\n",
    "df_directores.rename(columns={\"id_original\": \"id\"}, inplace=True)\n",
    "df_directores.head()"
   ]
  },
  {
   "cell_type": "code",
   "execution_count": 24,
   "metadata": {},
   "outputs": [],
   "source": [
    "df_concat= pd.merge(df_top_5,df_cast, on='id', how='left')\n",
    "df_concat2= pd.merge(df_concat, df_directores, on='id', how ='left')\n",
    "df_concat3= pd.merge(df_concat2, df_genero, on='id', how='left')\n"
   ]
  },
  {
   "cell_type": "code",
   "execution_count": 25,
   "metadata": {},
   "outputs": [
    {
     "data": {
      "text/html": [
       "<div>\n",
       "<style scoped>\n",
       "    .dataframe tbody tr th:only-of-type {\n",
       "        vertical-align: middle;\n",
       "    }\n",
       "\n",
       "    .dataframe tbody tr th {\n",
       "        vertical-align: top;\n",
       "    }\n",
       "\n",
       "    .dataframe thead th {\n",
       "        text-align: right;\n",
       "    }\n",
       "</style>\n",
       "<table border=\"1\" class=\"dataframe\">\n",
       "  <thead>\n",
       "    <tr style=\"text-align: right;\">\n",
       "      <th></th>\n",
       "      <th>id</th>\n",
       "      <th>overview</th>\n",
       "      <th>popularity</th>\n",
       "      <th>title</th>\n",
       "      <th>character</th>\n",
       "      <th>name</th>\n",
       "      <th>name_genres</th>\n",
       "    </tr>\n",
       "  </thead>\n",
       "  <tbody>\n",
       "    <tr>\n",
       "      <th>0</th>\n",
       "      <td>211672</td>\n",
       "      <td>Minions Stuart, Kevin and Bob are recruited by...</td>\n",
       "      <td>547.488298</td>\n",
       "      <td>Minions</td>\n",
       "      <td>Sandra Bullock, Jon Hamm, Michael Keaton, All...</td>\n",
       "      <td>Kyle Balda,Pierre Coffin</td>\n",
       "      <td>Family,Animation,Adventure,Comedy</td>\n",
       "    </tr>\n",
       "    <tr>\n",
       "      <th>1</th>\n",
       "      <td>297762</td>\n",
       "      <td>An Amazon princess comes to the world of Man t...</td>\n",
       "      <td>294.337037</td>\n",
       "      <td>Wonder Woman</td>\n",
       "      <td>Gal Gadot, Chris Pine, Robin Wright, Danny Hu...</td>\n",
       "      <td>Patty Jenkins</td>\n",
       "      <td>Action,Adventure,Fantasy</td>\n",
       "    </tr>\n",
       "    <tr>\n",
       "      <th>2</th>\n",
       "      <td>321612</td>\n",
       "      <td>A live-action adaptation of Disney's version o...</td>\n",
       "      <td>287.253654</td>\n",
       "      <td>Beauty and the Beast</td>\n",
       "      <td>Emma Watson, Dan Stevens, Luke Evans, Kevin K...</td>\n",
       "      <td>Bill Condon</td>\n",
       "      <td>Family,Fantasy,Romance</td>\n",
       "    </tr>\n",
       "    <tr>\n",
       "      <th>3</th>\n",
       "      <td>339403</td>\n",
       "      <td>After being coerced into working for a crime b...</td>\n",
       "      <td>228.032744</td>\n",
       "      <td>Baby Driver</td>\n",
       "      <td>Ansel Elgort, Lily James, Kevin Spacey, Jamie...</td>\n",
       "      <td>Edgar Wright</td>\n",
       "      <td>Action,Crime</td>\n",
       "    </tr>\n",
       "    <tr>\n",
       "      <th>4</th>\n",
       "      <td>177572</td>\n",
       "      <td>The special bond that develops between plus-si...</td>\n",
       "      <td>213.849907</td>\n",
       "      <td>Big Hero 6</td>\n",
       "      <td>Scott Adsit, Ryan Potter, Daniel Henney, T.J....</td>\n",
       "      <td>Chris Williams,Don Hall</td>\n",
       "      <td>Adventure,Family,Animation,Action,Comedy</td>\n",
       "    </tr>\n",
       "  </tbody>\n",
       "</table>\n",
       "</div>"
      ],
      "text/plain": [
       "       id                                           overview  popularity  \\\n",
       "0  211672  Minions Stuart, Kevin and Bob are recruited by...  547.488298   \n",
       "1  297762  An Amazon princess comes to the world of Man t...  294.337037   \n",
       "2  321612  A live-action adaptation of Disney's version o...  287.253654   \n",
       "3  339403  After being coerced into working for a crime b...  228.032744   \n",
       "4  177572  The special bond that develops between plus-si...  213.849907   \n",
       "\n",
       "                  title                                          character  \\\n",
       "0               Minions   Sandra Bullock, Jon Hamm, Michael Keaton, All...   \n",
       "1          Wonder Woman   Gal Gadot, Chris Pine, Robin Wright, Danny Hu...   \n",
       "2  Beauty and the Beast   Emma Watson, Dan Stevens, Luke Evans, Kevin K...   \n",
       "3           Baby Driver   Ansel Elgort, Lily James, Kevin Spacey, Jamie...   \n",
       "4            Big Hero 6   Scott Adsit, Ryan Potter, Daniel Henney, T.J....   \n",
       "\n",
       "                       name                               name_genres  \n",
       "0  Kyle Balda,Pierre Coffin         Family,Animation,Adventure,Comedy  \n",
       "1             Patty Jenkins                  Action,Adventure,Fantasy  \n",
       "2               Bill Condon                    Family,Fantasy,Romance  \n",
       "3              Edgar Wright                              Action,Crime  \n",
       "4   Chris Williams,Don Hall  Adventure,Family,Animation,Action,Comedy  "
      ]
     },
     "execution_count": 25,
     "metadata": {},
     "output_type": "execute_result"
    }
   ],
   "source": [
    "df_concat3.head()\n"
   ]
  },
  {
   "cell_type": "code",
   "execution_count": 26,
   "metadata": {},
   "outputs": [
    {
     "name": "stdout",
     "output_type": "stream",
     "text": [
      "<class 'pandas.core.frame.DataFrame'>\n",
      "RangeIndex: 15000 entries, 0 to 14999\n",
      "Data columns (total 7 columns):\n",
      " #   Column       Non-Null Count  Dtype  \n",
      "---  ------       --------------  -----  \n",
      " 0   id           15000 non-null  int64  \n",
      " 1   overview     15000 non-null  object \n",
      " 2   popularity   15000 non-null  float64\n",
      " 3   title        15000 non-null  object \n",
      " 4   character    15000 non-null  object \n",
      " 5   name         14978 non-null  object \n",
      " 6   name_genres  14982 non-null  object \n",
      "dtypes: float64(1), int64(1), object(5)\n",
      "memory usage: 820.4+ KB\n"
     ]
    }
   ],
   "source": [
    "df_concat3.info()"
   ]
  },
  {
   "cell_type": "code",
   "execution_count": 28,
   "metadata": {},
   "outputs": [],
   "source": [
    "df_concat3.to_csv('FuncionML.csv', index=False)"
   ]
  },
  {
   "cell_type": "code",
   "execution_count": 29,
   "metadata": {},
   "outputs": [
    {
     "data": {
      "text/html": [
       "<div>\n",
       "<style scoped>\n",
       "    .dataframe tbody tr th:only-of-type {\n",
       "        vertical-align: middle;\n",
       "    }\n",
       "\n",
       "    .dataframe tbody tr th {\n",
       "        vertical-align: top;\n",
       "    }\n",
       "\n",
       "    .dataframe thead th {\n",
       "        text-align: right;\n",
       "    }\n",
       "</style>\n",
       "<table border=\"1\" class=\"dataframe\">\n",
       "  <thead>\n",
       "    <tr style=\"text-align: right;\">\n",
       "      <th></th>\n",
       "      <th>overview</th>\n",
       "      <th>title</th>\n",
       "      <th>character</th>\n",
       "      <th>name</th>\n",
       "      <th>name_genres</th>\n",
       "    </tr>\n",
       "  </thead>\n",
       "  <tbody>\n",
       "    <tr>\n",
       "      <th>0</th>\n",
       "      <td>Minions Stuart, Kevin and Bob are recruited by...</td>\n",
       "      <td>Minions</td>\n",
       "      <td>Sandra Bullock, Jon Hamm, Michael Keaton, All...</td>\n",
       "      <td>Kyle Balda,Pierre Coffin</td>\n",
       "      <td>Family,Animation,Adventure,Comedy</td>\n",
       "    </tr>\n",
       "    <tr>\n",
       "      <th>1</th>\n",
       "      <td>An Amazon princess comes to the world of Man t...</td>\n",
       "      <td>Wonder Woman</td>\n",
       "      <td>Gal Gadot, Chris Pine, Robin Wright, Danny Hu...</td>\n",
       "      <td>Patty Jenkins</td>\n",
       "      <td>Action,Adventure,Fantasy</td>\n",
       "    </tr>\n",
       "    <tr>\n",
       "      <th>2</th>\n",
       "      <td>A live-action adaptation of Disney's version o...</td>\n",
       "      <td>Beauty and the Beast</td>\n",
       "      <td>Emma Watson, Dan Stevens, Luke Evans, Kevin K...</td>\n",
       "      <td>Bill Condon</td>\n",
       "      <td>Family,Fantasy,Romance</td>\n",
       "    </tr>\n",
       "    <tr>\n",
       "      <th>3</th>\n",
       "      <td>After being coerced into working for a crime b...</td>\n",
       "      <td>Baby Driver</td>\n",
       "      <td>Ansel Elgort, Lily James, Kevin Spacey, Jamie...</td>\n",
       "      <td>Edgar Wright</td>\n",
       "      <td>Action,Crime</td>\n",
       "    </tr>\n",
       "    <tr>\n",
       "      <th>4</th>\n",
       "      <td>The special bond that develops between plus-si...</td>\n",
       "      <td>Big Hero 6</td>\n",
       "      <td>Scott Adsit, Ryan Potter, Daniel Henney, T.J....</td>\n",
       "      <td>Chris Williams,Don Hall</td>\n",
       "      <td>Adventure,Family,Animation,Action,Comedy</td>\n",
       "    </tr>\n",
       "  </tbody>\n",
       "</table>\n",
       "</div>"
      ],
      "text/plain": [
       "                                            overview                 title  \\\n",
       "0  Minions Stuart, Kevin and Bob are recruited by...               Minions   \n",
       "1  An Amazon princess comes to the world of Man t...          Wonder Woman   \n",
       "2  A live-action adaptation of Disney's version o...  Beauty and the Beast   \n",
       "3  After being coerced into working for a crime b...           Baby Driver   \n",
       "4  The special bond that develops between plus-si...            Big Hero 6   \n",
       "\n",
       "                                           character  \\\n",
       "0   Sandra Bullock, Jon Hamm, Michael Keaton, All...   \n",
       "1   Gal Gadot, Chris Pine, Robin Wright, Danny Hu...   \n",
       "2   Emma Watson, Dan Stevens, Luke Evans, Kevin K...   \n",
       "3   Ansel Elgort, Lily James, Kevin Spacey, Jamie...   \n",
       "4   Scott Adsit, Ryan Potter, Daniel Henney, T.J....   \n",
       "\n",
       "                       name                               name_genres  \n",
       "0  Kyle Balda,Pierre Coffin         Family,Animation,Adventure,Comedy  \n",
       "1             Patty Jenkins                  Action,Adventure,Fantasy  \n",
       "2               Bill Condon                    Family,Fantasy,Romance  \n",
       "3              Edgar Wright                              Action,Crime  \n",
       "4   Chris Williams,Don Hall  Adventure,Family,Animation,Action,Comedy  "
      ]
     },
     "execution_count": 29,
     "metadata": {},
     "output_type": "execute_result"
    }
   ],
   "source": [
    "###Ahora con el dataframe con todas las caracteristicas que necesito armo otra funcion\n",
    "\n",
    "elim= ['id','popularity']\n",
    "filters= df_concat3.drop(columns=elim)\n",
    "filters.head()"
   ]
  },
  {
   "cell_type": "code",
   "execution_count": 30,
   "metadata": {},
   "outputs": [
    {
     "name": "stdout",
     "output_type": "stream",
     "text": [
      "<class 'pandas.core.frame.DataFrame'>\n",
      "RangeIndex: 15000 entries, 0 to 14999\n",
      "Data columns (total 5 columns):\n",
      " #   Column       Non-Null Count  Dtype \n",
      "---  ------       --------------  ----- \n",
      " 0   overview     15000 non-null  object\n",
      " 1   title        15000 non-null  object\n",
      " 2   character    15000 non-null  object\n",
      " 3   name         14978 non-null  object\n",
      " 4   name_genres  14982 non-null  object\n",
      "dtypes: object(5)\n",
      "memory usage: 586.1+ KB\n"
     ]
    }
   ],
   "source": [
    "filters.info()"
   ]
  },
  {
   "cell_type": "code",
   "execution_count": 31,
   "metadata": {},
   "outputs": [],
   "source": [
    "# Me aseguro que todas las columnas sean str para que no me de error la funcion\n",
    "for column in filters.columns:\n",
    "    filters[column] = filters[column].astype(str)"
   ]
  },
  {
   "cell_type": "code",
   "execution_count": 32,
   "metadata": {},
   "outputs": [],
   "source": [
    "#elimino espacios entre texto y mayusculas\n",
    "def clean_data(x):\n",
    "    return str.lower(x.replace(\" \",\"\"))\n"
   ]
  },
  {
   "cell_type": "code",
   "execution_count": 33,
   "metadata": {},
   "outputs": [],
   "source": [
    "#aplico la funcion\n",
    "for column in filters.columns:\n",
    "    filters[column] = filters[column].apply(clean_data)\n"
   ]
  },
  {
   "cell_type": "code",
   "execution_count": 34,
   "metadata": {},
   "outputs": [
    {
     "data": {
      "text/html": [
       "<div>\n",
       "<style scoped>\n",
       "    .dataframe tbody tr th:only-of-type {\n",
       "        vertical-align: middle;\n",
       "    }\n",
       "\n",
       "    .dataframe tbody tr th {\n",
       "        vertical-align: top;\n",
       "    }\n",
       "\n",
       "    .dataframe thead th {\n",
       "        text-align: right;\n",
       "    }\n",
       "</style>\n",
       "<table border=\"1\" class=\"dataframe\">\n",
       "  <thead>\n",
       "    <tr style=\"text-align: right;\">\n",
       "      <th></th>\n",
       "      <th>overview</th>\n",
       "      <th>title</th>\n",
       "      <th>character</th>\n",
       "      <th>name</th>\n",
       "      <th>name_genres</th>\n",
       "    </tr>\n",
       "  </thead>\n",
       "  <tbody>\n",
       "    <tr>\n",
       "      <th>0</th>\n",
       "      <td>minionsstuart,kevinandbobarerecruitedbyscarlet...</td>\n",
       "      <td>minions</td>\n",
       "      <td>sandrabullock,jonhamm,michaelkeaton,allisonjan...</td>\n",
       "      <td>kylebalda,pierrecoffin</td>\n",
       "      <td>family,animation,adventure,comedy</td>\n",
       "    </tr>\n",
       "    <tr>\n",
       "      <th>1</th>\n",
       "      <td>anamazonprincesscomestotheworldofmantobecometh...</td>\n",
       "      <td>wonderwoman</td>\n",
       "      <td>galgadot,chrispine,robinwright,dannyhuston,dav...</td>\n",
       "      <td>pattyjenkins</td>\n",
       "      <td>action,adventure,fantasy</td>\n",
       "    </tr>\n",
       "    <tr>\n",
       "      <th>2</th>\n",
       "      <td>alive-actionadaptationofdisney'sversionofthecl...</td>\n",
       "      <td>beautyandthebeast</td>\n",
       "      <td>emmawatson,danstevens,lukeevans,kevinkline,jos...</td>\n",
       "      <td>billcondon</td>\n",
       "      <td>family,fantasy,romance</td>\n",
       "    </tr>\n",
       "    <tr>\n",
       "      <th>3</th>\n",
       "      <td>afterbeingcoercedintoworkingforacrimeboss,ayou...</td>\n",
       "      <td>babydriver</td>\n",
       "      <td>anselelgort,lilyjames,kevinspacey,jamiefoxx,jo...</td>\n",
       "      <td>edgarwright</td>\n",
       "      <td>action,crime</td>\n",
       "    </tr>\n",
       "    <tr>\n",
       "      <th>4</th>\n",
       "      <td>thespecialbondthatdevelopsbetweenplus-sizedinf...</td>\n",
       "      <td>bighero6</td>\n",
       "      <td>scottadsit,ryanpotter,danielhenney,t.j.miller,...</td>\n",
       "      <td>chriswilliams,donhall</td>\n",
       "      <td>adventure,family,animation,action,comedy</td>\n",
       "    </tr>\n",
       "  </tbody>\n",
       "</table>\n",
       "</div>"
      ],
      "text/plain": [
       "                                            overview              title  \\\n",
       "0  minionsstuart,kevinandbobarerecruitedbyscarlet...            minions   \n",
       "1  anamazonprincesscomestotheworldofmantobecometh...        wonderwoman   \n",
       "2  alive-actionadaptationofdisney'sversionofthecl...  beautyandthebeast   \n",
       "3  afterbeingcoercedintoworkingforacrimeboss,ayou...         babydriver   \n",
       "4  thespecialbondthatdevelopsbetweenplus-sizedinf...           bighero6   \n",
       "\n",
       "                                           character                    name  \\\n",
       "0  sandrabullock,jonhamm,michaelkeaton,allisonjan...  kylebalda,pierrecoffin   \n",
       "1  galgadot,chrispine,robinwright,dannyhuston,dav...            pattyjenkins   \n",
       "2  emmawatson,danstevens,lukeevans,kevinkline,jos...              billcondon   \n",
       "3  anselelgort,lilyjames,kevinspacey,jamiefoxx,jo...             edgarwright   \n",
       "4  scottadsit,ryanpotter,danielhenney,t.j.miller,...   chriswilliams,donhall   \n",
       "\n",
       "                                name_genres  \n",
       "0         family,animation,adventure,comedy  \n",
       "1                  action,adventure,fantasy  \n",
       "2                    family,fantasy,romance  \n",
       "3                              action,crime  \n",
       "4  adventure,family,animation,action,comedy  "
      ]
     },
     "execution_count": 34,
     "metadata": {},
     "output_type": "execute_result"
    }
   ],
   "source": [
    "filters.head()"
   ]
  },
  {
   "cell_type": "markdown",
   "metadata": {},
   "source": [
    "Ahora creamos un conjunto de metadatos"
   ]
  },
  {
   "cell_type": "code",
   "execution_count": 35,
   "metadata": {},
   "outputs": [],
   "source": [
    "def crear_datos(x):\n",
    "    return x['name'] + ' ' + x['character']+ ' ' + x['name_genres']+ ' ' + x['overview']\n"
   ]
  },
  {
   "cell_type": "code",
   "execution_count": 36,
   "metadata": {},
   "outputs": [],
   "source": [
    "filters['metadatos']= filters.apply(crear_datos, axis=1)"
   ]
  },
  {
   "cell_type": "code",
   "execution_count": 45,
   "metadata": {},
   "outputs": [],
   "source": [
    "filters.to_csv('filters.csv', index=False)"
   ]
  },
  {
   "cell_type": "code",
   "execution_count": 37,
   "metadata": {},
   "outputs": [],
   "source": [
    "## Mismo pasos que la recomendacion anterior pero usamos Count Vectorizer\n",
    "from sklearn.feature_extraction.text import CountVectorizer\n",
    "\n",
    "count= CountVectorizer(stop_words='english')\n",
    "count_matrix= count.fit_transform(filters['metadatos'])"
   ]
  },
  {
   "cell_type": "code",
   "execution_count": 38,
   "metadata": {},
   "outputs": [],
   "source": [
    "from sklearn.metrics.pairwise import cosine_similarity\n",
    "\n",
    "cosine_sim2= cosine_similarity(count_matrix, count_matrix)"
   ]
  },
  {
   "cell_type": "code",
   "execution_count": 39,
   "metadata": {},
   "outputs": [],
   "source": [
    "##Reestrablezco el indice de Df inicial y hago le mapeo inverso\n",
    "filters= filters.reset_index()\n",
    "indices=pd.Series(filters.index, index=filters['title'])"
   ]
  },
  {
   "cell_type": "code",
   "execution_count": 40,
   "metadata": {},
   "outputs": [],
   "source": [
    "def recomendacion_peli(title, cosine_sim=cosine_sim2):\n",
    "    '''Ingresas un nombre de pelicula y te recomienda las similares en una lista'''\n",
    "    title=title.replace(' ','').lower()\n",
    "    idx= indices[title]\n",
    "    \n",
    "    sim_scores= list(enumerate(cosine_sim[idx]))\n",
    "    \n",
    "    sim_scores= sorted(sim_scores, key=lambda x: x[1], reverse=True)\n",
    "    \n",
    "    sim_scores= sim_scores[1:6]\n",
    "    \n",
    "    movie_indices= [i[0] for i in sim_scores]\n",
    "    \n",
    "    lista= df_concat3['title'].iloc[movie_indices]\n",
    "    lista2= lista.to_list()\n",
    "    return lista2\n",
    "    "
   ]
  },
  {
   "cell_type": "code",
   "execution_count": 41,
   "metadata": {},
   "outputs": [
    {
     "data": {
      "text/plain": [
       "['Toy Story 2',\n",
       " 'Toy Story 3',\n",
       " 'Small Fry',\n",
       " 'Toy Story That Time Forgot',\n",
       " 'Hawaiian Vacation']"
      ]
     },
     "execution_count": 41,
     "metadata": {},
     "output_type": "execute_result"
    }
   ],
   "source": [
    "recomendacion_peli('toy story')\n"
   ]
  },
  {
   "cell_type": "code",
   "execution_count": 42,
   "metadata": {},
   "outputs": [
    {
     "data": {
      "text/plain": [
       "['Toy Story 2',\n",
       " 'Toy Story 3',\n",
       " 'Small Fry',\n",
       " 'Toy Story That Time Forgot',\n",
       " 'Hawaiian Vacation']"
      ]
     },
     "execution_count": 42,
     "metadata": {},
     "output_type": "execute_result"
    }
   ],
   "source": [
    "recomendacion_peli('Toy Story')"
   ]
  },
  {
   "cell_type": "code",
   "execution_count": 43,
   "metadata": {},
   "outputs": [
    {
     "data": {
      "text/plain": [
       "['Banana',\n",
       " 'Minions: Orientation Day',\n",
       " 'Despicable Me 3',\n",
       " 'Mower Minions',\n",
       " 'Binky Nelson Unpacified']"
      ]
     },
     "execution_count": 43,
     "metadata": {},
     "output_type": "execute_result"
    }
   ],
   "source": [
    "recomendacion_peli('Minions')"
   ]
  }
 ],
 "metadata": {
  "kernelspec": {
   "display_name": "Python 3",
   "language": "python",
   "name": "python3"
  },
  "language_info": {
   "codemirror_mode": {
    "name": "ipython",
    "version": 3
   },
   "file_extension": ".py",
   "mimetype": "text/x-python",
   "name": "python",
   "nbconvert_exporter": "python",
   "pygments_lexer": "ipython3",
   "version": "3.11.1"
  },
  "orig_nbformat": 4
 },
 "nbformat": 4,
 "nbformat_minor": 2
}
