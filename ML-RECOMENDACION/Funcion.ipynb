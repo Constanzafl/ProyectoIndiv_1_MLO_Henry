{
 "cells": [
  {
   "cell_type": "code",
   "execution_count": 127,
   "metadata": {},
   "outputs": [],
   "source": [
    "import pandas as pd\n",
    "import numpy as np\n",
    "from sklearn.feature_extraction.text import TfidfVectorizer\n"
   ]
  },
  {
   "cell_type": "code",
   "execution_count": 128,
   "metadata": {},
   "outputs": [
    {
     "name": "stdout",
     "output_type": "stream",
     "text": [
      "<class 'pandas.core.frame.DataFrame'>\n",
      "RangeIndex: 44936 entries, 0 to 44935\n",
      "Data columns (total 11 columns):\n",
      " #   Column             Non-Null Count  Dtype  \n",
      "---  ------             --------------  -----  \n",
      " 0   budget             44936 non-null  float64\n",
      " 1   id                 44936 non-null  int64  \n",
      " 2   original_language  44926 non-null  object \n",
      " 3   overview           44029 non-null  object \n",
      " 4   popularity         44936 non-null  float64\n",
      " 5   release_date       44936 non-null  object \n",
      " 6   revenue            44936 non-null  float64\n",
      " 7   runtime            44696 non-null  float64\n",
      " 8   title              44936 non-null  object \n",
      " 9   release_year       44936 non-null  float64\n",
      " 10  return             10879 non-null  float64\n",
      "dtypes: float64(6), int64(1), object(4)\n",
      "memory usage: 3.8+ MB\n"
     ]
    }
   ],
   "source": [
    "# me traigo el ds con las columnas basicas\n",
    "df_movies= pd.read_csv(r'C:\\Users\\flori\\Desktop\\DATA SCIENCE\\LABS\\Trabajos\\Proyecto_Indiv_1_MLO_Henry\\ETL\\A-ETLconsignas\\MoviesSMALL.csv')\n",
    "df_movies.info()"
   ]
  },
  {
   "cell_type": "code",
   "execution_count": 129,
   "metadata": {},
   "outputs": [],
   "source": [
    "# transformo la columna overview toda en tipo str\n",
    "df_movies[\"overview\"] = df_movies[\"overview\"].astype(str)"
   ]
  },
  {
   "cell_type": "code",
   "execution_count": 130,
   "metadata": {},
   "outputs": [
    {
     "data": {
      "text/plain": [
       "0    Led by Woody, Andy's toys live happily in his ...\n",
       "1    When siblings Judy and Peter discover an encha...\n",
       "2    A family wedding reignites the ancient feud be...\n",
       "3    Cheated on, mistreated and stepped on, the wom...\n",
       "4    Just when George Banks has recovered from his ...\n",
       "Name: overview, dtype: object"
      ]
     },
     "execution_count": 130,
     "metadata": {},
     "output_type": "execute_result"
    }
   ],
   "source": [
    "df_movies['overview'].head()"
   ]
  },
  {
   "cell_type": "code",
   "execution_count": 131,
   "metadata": {},
   "outputs": [],
   "source": [
    "#elimino las columnas que no voy a usar, me quedo unicamente con popularity, title y id\n",
    "columnas_elim=['budget','release_year', 'release_date', 'runtime', 'revenue', 'return','original_language']\n",
    "df_movies2 = df_movies.drop(columns=columnas_elim)\n",
    "df_movies_sorted= df_movies2.sort_values(ascending=False, by='popularity')"
   ]
  },
  {
   "cell_type": "code",
   "execution_count": 132,
   "metadata": {},
   "outputs": [],
   "source": [
    "# me quedo con las 15 mil peliculas mas populares\n",
    "df_top_5= df_movies_sorted.head(15000) "
   ]
  },
  {
   "cell_type": "code",
   "execution_count": 133,
   "metadata": {},
   "outputs": [
    {
     "data": {
      "text/html": [
       "<div>\n",
       "<style scoped>\n",
       "    .dataframe tbody tr th:only-of-type {\n",
       "        vertical-align: middle;\n",
       "    }\n",
       "\n",
       "    .dataframe tbody tr th {\n",
       "        vertical-align: top;\n",
       "    }\n",
       "\n",
       "    .dataframe thead th {\n",
       "        text-align: right;\n",
       "    }\n",
       "</style>\n",
       "<table border=\"1\" class=\"dataframe\">\n",
       "  <thead>\n",
       "    <tr style=\"text-align: right;\">\n",
       "      <th></th>\n",
       "      <th>id</th>\n",
       "      <th>overview</th>\n",
       "      <th>popularity</th>\n",
       "      <th>title</th>\n",
       "    </tr>\n",
       "  </thead>\n",
       "  <tbody>\n",
       "    <tr>\n",
       "      <th>30443</th>\n",
       "      <td>211672</td>\n",
       "      <td>Minions Stuart, Kevin and Bob are recruited by...</td>\n",
       "      <td>547.488298</td>\n",
       "      <td>Minions</td>\n",
       "    </tr>\n",
       "    <tr>\n",
       "      <th>33060</th>\n",
       "      <td>297762</td>\n",
       "      <td>An Amazon princess comes to the world of Man t...</td>\n",
       "      <td>294.337037</td>\n",
       "      <td>Wonder Woman</td>\n",
       "    </tr>\n",
       "    <tr>\n",
       "      <th>41779</th>\n",
       "      <td>321612</td>\n",
       "      <td>A live-action adaptation of Disney's version o...</td>\n",
       "      <td>287.253654</td>\n",
       "      <td>Beauty and the Beast</td>\n",
       "    </tr>\n",
       "    <tr>\n",
       "      <th>43170</th>\n",
       "      <td>339403</td>\n",
       "      <td>After being coerced into working for a crime b...</td>\n",
       "      <td>228.032744</td>\n",
       "      <td>Baby Driver</td>\n",
       "    </tr>\n",
       "    <tr>\n",
       "      <th>24267</th>\n",
       "      <td>177572</td>\n",
       "      <td>The special bond that develops between plus-si...</td>\n",
       "      <td>213.849907</td>\n",
       "      <td>Big Hero 6</td>\n",
       "    </tr>\n",
       "  </tbody>\n",
       "</table>\n",
       "</div>"
      ],
      "text/plain": [
       "           id                                           overview  popularity  \\\n",
       "30443  211672  Minions Stuart, Kevin and Bob are recruited by...  547.488298   \n",
       "33060  297762  An Amazon princess comes to the world of Man t...  294.337037   \n",
       "41779  321612  A live-action adaptation of Disney's version o...  287.253654   \n",
       "43170  339403  After being coerced into working for a crime b...  228.032744   \n",
       "24267  177572  The special bond that develops between plus-si...  213.849907   \n",
       "\n",
       "                      title  \n",
       "30443               Minions  \n",
       "33060          Wonder Woman  \n",
       "41779  Beauty and the Beast  \n",
       "43170           Baby Driver  \n",
       "24267            Big Hero 6  "
      ]
     },
     "execution_count": 133,
     "metadata": {},
     "output_type": "execute_result"
    }
   ],
   "source": [
    "df_top_5.head()"
   ]
  },
  {
   "cell_type": "code",
   "execution_count": 134,
   "metadata": {},
   "outputs": [],
   "source": [
    "#hago un csv\n",
    "df_top_5.to_csv('Top15kpelis.csv', index=False)"
   ]
  },
  {
   "cell_type": "code",
   "execution_count": 135,
   "metadata": {},
   "outputs": [
    {
     "data": {
      "text/html": [
       "<div>\n",
       "<style scoped>\n",
       "    .dataframe tbody tr th:only-of-type {\n",
       "        vertical-align: middle;\n",
       "    }\n",
       "\n",
       "    .dataframe tbody tr th {\n",
       "        vertical-align: top;\n",
       "    }\n",
       "\n",
       "    .dataframe thead th {\n",
       "        text-align: right;\n",
       "    }\n",
       "</style>\n",
       "<table border=\"1\" class=\"dataframe\">\n",
       "  <thead>\n",
       "    <tr style=\"text-align: right;\">\n",
       "      <th></th>\n",
       "      <th>id</th>\n",
       "      <th>name_genres</th>\n",
       "    </tr>\n",
       "  </thead>\n",
       "  <tbody>\n",
       "    <tr>\n",
       "      <th>0</th>\n",
       "      <td>2</td>\n",
       "      <td>Drama,Crime</td>\n",
       "    </tr>\n",
       "    <tr>\n",
       "      <th>1</th>\n",
       "      <td>3</td>\n",
       "      <td>Drama,Comedy</td>\n",
       "    </tr>\n",
       "    <tr>\n",
       "      <th>2</th>\n",
       "      <td>5</td>\n",
       "      <td>Crime,Comedy</td>\n",
       "    </tr>\n",
       "    <tr>\n",
       "      <th>3</th>\n",
       "      <td>6</td>\n",
       "      <td>Action,Thriller,Crime</td>\n",
       "    </tr>\n",
       "    <tr>\n",
       "      <th>4</th>\n",
       "      <td>11</td>\n",
       "      <td>Adventure,Action,Science Fiction</td>\n",
       "    </tr>\n",
       "  </tbody>\n",
       "</table>\n",
       "</div>"
      ],
      "text/plain": [
       "   id                       name_genres\n",
       "0   2                       Drama,Crime\n",
       "1   3                      Drama,Comedy\n",
       "2   5                      Crime,Comedy\n",
       "3   6             Action,Thriller,Crime\n",
       "4  11  Adventure,Action,Science Fiction"
      ]
     },
     "execution_count": 135,
     "metadata": {},
     "output_type": "execute_result"
    }
   ],
   "source": [
    "# me traido el data set de genero y id\n",
    "df_genero=pd.read_csv(r'C:\\Users\\flori\\Desktop\\DATA SCIENCE\\LABS\\Trabajos\\Proyecto_Indiv_1_MLO_Henry\\ETL\\DESANIDANDO\\GenerosAgrupados.csv') \n",
    "df_genero.head()"
   ]
  },
  {
   "cell_type": "code",
   "execution_count": 136,
   "metadata": {},
   "outputs": [
    {
     "data": {
      "text/html": [
       "<div>\n",
       "<style scoped>\n",
       "    .dataframe tbody tr th:only-of-type {\n",
       "        vertical-align: middle;\n",
       "    }\n",
       "\n",
       "    .dataframe tbody tr th {\n",
       "        vertical-align: top;\n",
       "    }\n",
       "\n",
       "    .dataframe thead th {\n",
       "        text-align: right;\n",
       "    }\n",
       "</style>\n",
       "<table border=\"1\" class=\"dataframe\">\n",
       "  <thead>\n",
       "    <tr style=\"text-align: right;\">\n",
       "      <th></th>\n",
       "      <th>id</th>\n",
       "      <th>character</th>\n",
       "    </tr>\n",
       "  </thead>\n",
       "  <tbody>\n",
       "    <tr>\n",
       "      <th>0</th>\n",
       "      <td>2</td>\n",
       "      <td>Turo Pajala, Susanna Haavisto, Matti Pellonpä...</td>\n",
       "    </tr>\n",
       "    <tr>\n",
       "      <th>1</th>\n",
       "      <td>3</td>\n",
       "      <td>Matti Pellonpää, Kati Outinen, Sakari Kuosman...</td>\n",
       "    </tr>\n",
       "    <tr>\n",
       "      <th>2</th>\n",
       "      <td>5</td>\n",
       "      <td>Tim Roth, Antonio Banderas, Jennifer Beals, M...</td>\n",
       "    </tr>\n",
       "    <tr>\n",
       "      <th>3</th>\n",
       "      <td>6</td>\n",
       "      <td>Emilio Estevez, Cuba Gooding Jr., Denis Leary...</td>\n",
       "    </tr>\n",
       "    <tr>\n",
       "      <th>4</th>\n",
       "      <td>11</td>\n",
       "      <td>Mark Hamill, Harrison Ford, Carrie Fisher, Pe...</td>\n",
       "    </tr>\n",
       "  </tbody>\n",
       "</table>\n",
       "</div>"
      ],
      "text/plain": [
       "   id                                          character\n",
       "0   2   Turo Pajala, Susanna Haavisto, Matti Pellonpä...\n",
       "1   3   Matti Pellonpää, Kati Outinen, Sakari Kuosman...\n",
       "2   5   Tim Roth, Antonio Banderas, Jennifer Beals, M...\n",
       "3   6   Emilio Estevez, Cuba Gooding Jr., Denis Leary...\n",
       "4  11   Mark Hamill, Harrison Ford, Carrie Fisher, Pe..."
      ]
     },
     "execution_count": 136,
     "metadata": {},
     "output_type": "execute_result"
    }
   ],
   "source": [
    "# me traigo el dataset de cast\n",
    "df_cast= pd.read_csv(r'C:\\Users\\flori\\Desktop\\DATA SCIENCE\\LABS\\Trabajos\\Proyecto_Indiv_1_MLO_Henry\\ETL\\DESANIDANDO\\ActoresPorPEliID.csv')\n",
    "df_cast.rename(columns={\"id_original\": \"id\"}, inplace=True)\n",
    "df_cast.drop(columns='name', inplace=True)\n",
    "df_cast.head()"
   ]
  },
  {
   "cell_type": "code",
   "execution_count": 137,
   "metadata": {},
   "outputs": [
    {
     "data": {
      "text/html": [
       "<div>\n",
       "<style scoped>\n",
       "    .dataframe tbody tr th:only-of-type {\n",
       "        vertical-align: middle;\n",
       "    }\n",
       "\n",
       "    .dataframe tbody tr th {\n",
       "        vertical-align: top;\n",
       "    }\n",
       "\n",
       "    .dataframe thead th {\n",
       "        text-align: right;\n",
       "    }\n",
       "</style>\n",
       "<table border=\"1\" class=\"dataframe\">\n",
       "  <thead>\n",
       "    <tr style=\"text-align: right;\">\n",
       "      <th></th>\n",
       "      <th>id</th>\n",
       "      <th>name</th>\n",
       "    </tr>\n",
       "  </thead>\n",
       "  <tbody>\n",
       "    <tr>\n",
       "      <th>0</th>\n",
       "      <td>100</td>\n",
       "      <td>Guy Ritchie</td>\n",
       "    </tr>\n",
       "    <tr>\n",
       "      <th>1</th>\n",
       "      <td>10000</td>\n",
       "      <td>Sergio Cabrera</td>\n",
       "    </tr>\n",
       "    <tr>\n",
       "      <th>2</th>\n",
       "      <td>10001</td>\n",
       "      <td>Yahoo Serious</td>\n",
       "    </tr>\n",
       "    <tr>\n",
       "      <th>3</th>\n",
       "      <td>100010</td>\n",
       "      <td>Frank Borzage</td>\n",
       "    </tr>\n",
       "    <tr>\n",
       "      <th>4</th>\n",
       "      <td>100017</td>\n",
       "      <td>Angelina Maccarone</td>\n",
       "    </tr>\n",
       "  </tbody>\n",
       "</table>\n",
       "</div>"
      ],
      "text/plain": [
       "       id                name\n",
       "0     100         Guy Ritchie\n",
       "1   10000      Sergio Cabrera\n",
       "2   10001       Yahoo Serious\n",
       "3  100010       Frank Borzage\n",
       "4  100017  Angelina Maccarone"
      ]
     },
     "execution_count": 137,
     "metadata": {},
     "output_type": "execute_result"
    }
   ],
   "source": [
    "# me traigo el dataset de directores\n",
    "df_directores= pd.read_csv(r'C:\\Users\\flori\\Desktop\\DATA SCIENCE\\LABS\\Trabajos\\Proyecto_Indiv_1_MLO_Henry\\ETL\\DESANIDANDO\\directoresAgrupadosID.csv')\n",
    "df_directores.rename(columns={\"id_original\": \"id\"}, inplace=True)\n",
    "df_directores.head()"
   ]
  },
  {
   "cell_type": "code",
   "execution_count": 138,
   "metadata": {},
   "outputs": [],
   "source": [
    "# uno los dataset de los top 15mil con genero, cast y directores\n",
    "df_concat= pd.merge(df_top_5,df_cast, on='id', how='left')\n",
    "df_concat2= pd.merge(df_concat, df_directores, on='id', how ='left')\n",
    "df_concat3= pd.merge(df_concat2, df_genero, on='id', how='left')\n"
   ]
  },
  {
   "cell_type": "code",
   "execution_count": 139,
   "metadata": {},
   "outputs": [
    {
     "data": {
      "text/html": [
       "<div>\n",
       "<style scoped>\n",
       "    .dataframe tbody tr th:only-of-type {\n",
       "        vertical-align: middle;\n",
       "    }\n",
       "\n",
       "    .dataframe tbody tr th {\n",
       "        vertical-align: top;\n",
       "    }\n",
       "\n",
       "    .dataframe thead th {\n",
       "        text-align: right;\n",
       "    }\n",
       "</style>\n",
       "<table border=\"1\" class=\"dataframe\">\n",
       "  <thead>\n",
       "    <tr style=\"text-align: right;\">\n",
       "      <th></th>\n",
       "      <th>id</th>\n",
       "      <th>overview</th>\n",
       "      <th>popularity</th>\n",
       "      <th>title</th>\n",
       "      <th>character</th>\n",
       "      <th>name</th>\n",
       "      <th>name_genres</th>\n",
       "    </tr>\n",
       "  </thead>\n",
       "  <tbody>\n",
       "    <tr>\n",
       "      <th>0</th>\n",
       "      <td>211672</td>\n",
       "      <td>Minions Stuart, Kevin and Bob are recruited by...</td>\n",
       "      <td>547.488298</td>\n",
       "      <td>Minions</td>\n",
       "      <td>Sandra Bullock, Jon Hamm, Michael Keaton, All...</td>\n",
       "      <td>Kyle Balda,Pierre Coffin</td>\n",
       "      <td>Family,Animation,Adventure,Comedy</td>\n",
       "    </tr>\n",
       "    <tr>\n",
       "      <th>1</th>\n",
       "      <td>297762</td>\n",
       "      <td>An Amazon princess comes to the world of Man t...</td>\n",
       "      <td>294.337037</td>\n",
       "      <td>Wonder Woman</td>\n",
       "      <td>Gal Gadot, Chris Pine, Robin Wright, Danny Hu...</td>\n",
       "      <td>Patty Jenkins</td>\n",
       "      <td>Action,Adventure,Fantasy</td>\n",
       "    </tr>\n",
       "    <tr>\n",
       "      <th>2</th>\n",
       "      <td>321612</td>\n",
       "      <td>A live-action adaptation of Disney's version o...</td>\n",
       "      <td>287.253654</td>\n",
       "      <td>Beauty and the Beast</td>\n",
       "      <td>Emma Watson, Dan Stevens, Luke Evans, Kevin K...</td>\n",
       "      <td>Bill Condon</td>\n",
       "      <td>Family,Fantasy,Romance</td>\n",
       "    </tr>\n",
       "    <tr>\n",
       "      <th>3</th>\n",
       "      <td>339403</td>\n",
       "      <td>After being coerced into working for a crime b...</td>\n",
       "      <td>228.032744</td>\n",
       "      <td>Baby Driver</td>\n",
       "      <td>Ansel Elgort, Lily James, Kevin Spacey, Jamie...</td>\n",
       "      <td>Edgar Wright</td>\n",
       "      <td>Action,Crime</td>\n",
       "    </tr>\n",
       "    <tr>\n",
       "      <th>4</th>\n",
       "      <td>177572</td>\n",
       "      <td>The special bond that develops between plus-si...</td>\n",
       "      <td>213.849907</td>\n",
       "      <td>Big Hero 6</td>\n",
       "      <td>Scott Adsit, Ryan Potter, Daniel Henney, T.J....</td>\n",
       "      <td>Chris Williams,Don Hall</td>\n",
       "      <td>Adventure,Family,Animation,Action,Comedy</td>\n",
       "    </tr>\n",
       "  </tbody>\n",
       "</table>\n",
       "</div>"
      ],
      "text/plain": [
       "       id                                           overview  popularity  \\\n",
       "0  211672  Minions Stuart, Kevin and Bob are recruited by...  547.488298   \n",
       "1  297762  An Amazon princess comes to the world of Man t...  294.337037   \n",
       "2  321612  A live-action adaptation of Disney's version o...  287.253654   \n",
       "3  339403  After being coerced into working for a crime b...  228.032744   \n",
       "4  177572  The special bond that develops between plus-si...  213.849907   \n",
       "\n",
       "                  title                                          character  \\\n",
       "0               Minions   Sandra Bullock, Jon Hamm, Michael Keaton, All...   \n",
       "1          Wonder Woman   Gal Gadot, Chris Pine, Robin Wright, Danny Hu...   \n",
       "2  Beauty and the Beast   Emma Watson, Dan Stevens, Luke Evans, Kevin K...   \n",
       "3           Baby Driver   Ansel Elgort, Lily James, Kevin Spacey, Jamie...   \n",
       "4            Big Hero 6   Scott Adsit, Ryan Potter, Daniel Henney, T.J....   \n",
       "\n",
       "                       name                               name_genres  \n",
       "0  Kyle Balda,Pierre Coffin         Family,Animation,Adventure,Comedy  \n",
       "1             Patty Jenkins                  Action,Adventure,Fantasy  \n",
       "2               Bill Condon                    Family,Fantasy,Romance  \n",
       "3              Edgar Wright                              Action,Crime  \n",
       "4   Chris Williams,Don Hall  Adventure,Family,Animation,Action,Comedy  "
      ]
     },
     "execution_count": 139,
     "metadata": {},
     "output_type": "execute_result"
    }
   ],
   "source": [
    "#este data set me va a servir para la funcion de ML\n",
    "df_concat3.head()\n"
   ]
  },
  {
   "cell_type": "code",
   "execution_count": 140,
   "metadata": {},
   "outputs": [
    {
     "name": "stdout",
     "output_type": "stream",
     "text": [
      "<class 'pandas.core.frame.DataFrame'>\n",
      "RangeIndex: 15000 entries, 0 to 14999\n",
      "Data columns (total 7 columns):\n",
      " #   Column       Non-Null Count  Dtype  \n",
      "---  ------       --------------  -----  \n",
      " 0   id           15000 non-null  int64  \n",
      " 1   overview     15000 non-null  object \n",
      " 2   popularity   15000 non-null  float64\n",
      " 3   title        15000 non-null  object \n",
      " 4   character    15000 non-null  object \n",
      " 5   name         14978 non-null  object \n",
      " 6   name_genres  14982 non-null  object \n",
      "dtypes: float64(1), int64(1), object(5)\n",
      "memory usage: 820.4+ KB\n"
     ]
    }
   ],
   "source": [
    "df_concat3.info()"
   ]
  },
  {
   "cell_type": "code",
   "execution_count": 141,
   "metadata": {},
   "outputs": [],
   "source": [
    "# me aseguro de que todas las columnas sean str\n",
    "for column in df_concat3.columns:\n",
    "    df_concat3[column] = df_concat3[column].astype(str)"
   ]
  },
  {
   "cell_type": "code",
   "execution_count": 142,
   "metadata": {},
   "outputs": [],
   "source": [
    "#la pongo en un DS\n",
    "df_concat3.to_csv('FuncionML.csv', index=False)"
   ]
  },
  {
   "cell_type": "code",
   "execution_count": 143,
   "metadata": {},
   "outputs": [
    {
     "data": {
      "text/html": [
       "<div>\n",
       "<style scoped>\n",
       "    .dataframe tbody tr th:only-of-type {\n",
       "        vertical-align: middle;\n",
       "    }\n",
       "\n",
       "    .dataframe tbody tr th {\n",
       "        vertical-align: top;\n",
       "    }\n",
       "\n",
       "    .dataframe thead th {\n",
       "        text-align: right;\n",
       "    }\n",
       "</style>\n",
       "<table border=\"1\" class=\"dataframe\">\n",
       "  <thead>\n",
       "    <tr style=\"text-align: right;\">\n",
       "      <th></th>\n",
       "      <th>overview</th>\n",
       "      <th>title</th>\n",
       "      <th>character</th>\n",
       "      <th>name</th>\n",
       "      <th>name_genres</th>\n",
       "    </tr>\n",
       "  </thead>\n",
       "  <tbody>\n",
       "    <tr>\n",
       "      <th>0</th>\n",
       "      <td>Minions Stuart, Kevin and Bob are recruited by...</td>\n",
       "      <td>Minions</td>\n",
       "      <td>Sandra Bullock, Jon Hamm, Michael Keaton, All...</td>\n",
       "      <td>Kyle Balda,Pierre Coffin</td>\n",
       "      <td>Family,Animation,Adventure,Comedy</td>\n",
       "    </tr>\n",
       "    <tr>\n",
       "      <th>1</th>\n",
       "      <td>An Amazon princess comes to the world of Man t...</td>\n",
       "      <td>Wonder Woman</td>\n",
       "      <td>Gal Gadot, Chris Pine, Robin Wright, Danny Hu...</td>\n",
       "      <td>Patty Jenkins</td>\n",
       "      <td>Action,Adventure,Fantasy</td>\n",
       "    </tr>\n",
       "    <tr>\n",
       "      <th>2</th>\n",
       "      <td>A live-action adaptation of Disney's version o...</td>\n",
       "      <td>Beauty and the Beast</td>\n",
       "      <td>Emma Watson, Dan Stevens, Luke Evans, Kevin K...</td>\n",
       "      <td>Bill Condon</td>\n",
       "      <td>Family,Fantasy,Romance</td>\n",
       "    </tr>\n",
       "    <tr>\n",
       "      <th>3</th>\n",
       "      <td>After being coerced into working for a crime b...</td>\n",
       "      <td>Baby Driver</td>\n",
       "      <td>Ansel Elgort, Lily James, Kevin Spacey, Jamie...</td>\n",
       "      <td>Edgar Wright</td>\n",
       "      <td>Action,Crime</td>\n",
       "    </tr>\n",
       "    <tr>\n",
       "      <th>4</th>\n",
       "      <td>The special bond that develops between plus-si...</td>\n",
       "      <td>Big Hero 6</td>\n",
       "      <td>Scott Adsit, Ryan Potter, Daniel Henney, T.J....</td>\n",
       "      <td>Chris Williams,Don Hall</td>\n",
       "      <td>Adventure,Family,Animation,Action,Comedy</td>\n",
       "    </tr>\n",
       "  </tbody>\n",
       "</table>\n",
       "</div>"
      ],
      "text/plain": [
       "                                            overview                 title  \\\n",
       "0  Minions Stuart, Kevin and Bob are recruited by...               Minions   \n",
       "1  An Amazon princess comes to the world of Man t...          Wonder Woman   \n",
       "2  A live-action adaptation of Disney's version o...  Beauty and the Beast   \n",
       "3  After being coerced into working for a crime b...           Baby Driver   \n",
       "4  The special bond that develops between plus-si...            Big Hero 6   \n",
       "\n",
       "                                           character  \\\n",
       "0   Sandra Bullock, Jon Hamm, Michael Keaton, All...   \n",
       "1   Gal Gadot, Chris Pine, Robin Wright, Danny Hu...   \n",
       "2   Emma Watson, Dan Stevens, Luke Evans, Kevin K...   \n",
       "3   Ansel Elgort, Lily James, Kevin Spacey, Jamie...   \n",
       "4   Scott Adsit, Ryan Potter, Daniel Henney, T.J....   \n",
       "\n",
       "                       name                               name_genres  \n",
       "0  Kyle Balda,Pierre Coffin         Family,Animation,Adventure,Comedy  \n",
       "1             Patty Jenkins                  Action,Adventure,Fantasy  \n",
       "2               Bill Condon                    Family,Fantasy,Romance  \n",
       "3              Edgar Wright                              Action,Crime  \n",
       "4   Chris Williams,Don Hall  Adventure,Family,Animation,Action,Comedy  "
      ]
     },
     "execution_count": 143,
     "metadata": {},
     "output_type": "execute_result"
    }
   ],
   "source": [
    "###Ahora elimindo las columnas numericas\n",
    "elim= ['id','popularity']\n",
    "filters= df_concat3.drop(columns=elim)\n",
    "filters.head()"
   ]
  },
  {
   "cell_type": "code",
   "execution_count": 144,
   "metadata": {},
   "outputs": [
    {
     "name": "stdout",
     "output_type": "stream",
     "text": [
      "<class 'pandas.core.frame.DataFrame'>\n",
      "RangeIndex: 15000 entries, 0 to 14999\n",
      "Data columns (total 5 columns):\n",
      " #   Column       Non-Null Count  Dtype \n",
      "---  ------       --------------  ----- \n",
      " 0   overview     15000 non-null  object\n",
      " 1   title        15000 non-null  object\n",
      " 2   character    15000 non-null  object\n",
      " 3   name         15000 non-null  object\n",
      " 4   name_genres  15000 non-null  object\n",
      "dtypes: object(5)\n",
      "memory usage: 586.1+ KB\n"
     ]
    }
   ],
   "source": [
    "filters.info()"
   ]
  },
  {
   "cell_type": "code",
   "execution_count": 145,
   "metadata": {},
   "outputs": [],
   "source": [
    "# Me aseguro que todas las columnas sean str para que no me de error la funcion\n",
    "for column in filters.columns:\n",
    "    filters[column] = filters[column].astype(str)"
   ]
  },
  {
   "cell_type": "code",
   "execution_count": 146,
   "metadata": {},
   "outputs": [],
   "source": [
    "#elimino espacios entre texto y mayusculas\n",
    "def clean_data(x):\n",
    "    return str.lower(x.replace(\" \",\"\"))\n"
   ]
  },
  {
   "cell_type": "code",
   "execution_count": 147,
   "metadata": {},
   "outputs": [],
   "source": [
    "#aplico la funcion\n",
    "for column in filters.columns:\n",
    "    filters[column] = filters[column].apply(clean_data)\n"
   ]
  },
  {
   "cell_type": "code",
   "execution_count": 148,
   "metadata": {},
   "outputs": [
    {
     "data": {
      "text/html": [
       "<div>\n",
       "<style scoped>\n",
       "    .dataframe tbody tr th:only-of-type {\n",
       "        vertical-align: middle;\n",
       "    }\n",
       "\n",
       "    .dataframe tbody tr th {\n",
       "        vertical-align: top;\n",
       "    }\n",
       "\n",
       "    .dataframe thead th {\n",
       "        text-align: right;\n",
       "    }\n",
       "</style>\n",
       "<table border=\"1\" class=\"dataframe\">\n",
       "  <thead>\n",
       "    <tr style=\"text-align: right;\">\n",
       "      <th></th>\n",
       "      <th>overview</th>\n",
       "      <th>title</th>\n",
       "      <th>character</th>\n",
       "      <th>name</th>\n",
       "      <th>name_genres</th>\n",
       "    </tr>\n",
       "  </thead>\n",
       "  <tbody>\n",
       "    <tr>\n",
       "      <th>0</th>\n",
       "      <td>minionsstuart,kevinandbobarerecruitedbyscarlet...</td>\n",
       "      <td>minions</td>\n",
       "      <td>sandrabullock,jonhamm,michaelkeaton,allisonjan...</td>\n",
       "      <td>kylebalda,pierrecoffin</td>\n",
       "      <td>family,animation,adventure,comedy</td>\n",
       "    </tr>\n",
       "    <tr>\n",
       "      <th>1</th>\n",
       "      <td>anamazonprincesscomestotheworldofmantobecometh...</td>\n",
       "      <td>wonderwoman</td>\n",
       "      <td>galgadot,chrispine,robinwright,dannyhuston,dav...</td>\n",
       "      <td>pattyjenkins</td>\n",
       "      <td>action,adventure,fantasy</td>\n",
       "    </tr>\n",
       "    <tr>\n",
       "      <th>2</th>\n",
       "      <td>alive-actionadaptationofdisney'sversionofthecl...</td>\n",
       "      <td>beautyandthebeast</td>\n",
       "      <td>emmawatson,danstevens,lukeevans,kevinkline,jos...</td>\n",
       "      <td>billcondon</td>\n",
       "      <td>family,fantasy,romance</td>\n",
       "    </tr>\n",
       "    <tr>\n",
       "      <th>3</th>\n",
       "      <td>afterbeingcoercedintoworkingforacrimeboss,ayou...</td>\n",
       "      <td>babydriver</td>\n",
       "      <td>anselelgort,lilyjames,kevinspacey,jamiefoxx,jo...</td>\n",
       "      <td>edgarwright</td>\n",
       "      <td>action,crime</td>\n",
       "    </tr>\n",
       "    <tr>\n",
       "      <th>4</th>\n",
       "      <td>thespecialbondthatdevelopsbetweenplus-sizedinf...</td>\n",
       "      <td>bighero6</td>\n",
       "      <td>scottadsit,ryanpotter,danielhenney,t.j.miller,...</td>\n",
       "      <td>chriswilliams,donhall</td>\n",
       "      <td>adventure,family,animation,action,comedy</td>\n",
       "    </tr>\n",
       "  </tbody>\n",
       "</table>\n",
       "</div>"
      ],
      "text/plain": [
       "                                            overview              title  \\\n",
       "0  minionsstuart,kevinandbobarerecruitedbyscarlet...            minions   \n",
       "1  anamazonprincesscomestotheworldofmantobecometh...        wonderwoman   \n",
       "2  alive-actionadaptationofdisney'sversionofthecl...  beautyandthebeast   \n",
       "3  afterbeingcoercedintoworkingforacrimeboss,ayou...         babydriver   \n",
       "4  thespecialbondthatdevelopsbetweenplus-sizedinf...           bighero6   \n",
       "\n",
       "                                           character                    name  \\\n",
       "0  sandrabullock,jonhamm,michaelkeaton,allisonjan...  kylebalda,pierrecoffin   \n",
       "1  galgadot,chrispine,robinwright,dannyhuston,dav...            pattyjenkins   \n",
       "2  emmawatson,danstevens,lukeevans,kevinkline,jos...              billcondon   \n",
       "3  anselelgort,lilyjames,kevinspacey,jamiefoxx,jo...             edgarwright   \n",
       "4  scottadsit,ryanpotter,danielhenney,t.j.miller,...   chriswilliams,donhall   \n",
       "\n",
       "                                name_genres  \n",
       "0         family,animation,adventure,comedy  \n",
       "1                  action,adventure,fantasy  \n",
       "2                    family,fantasy,romance  \n",
       "3                              action,crime  \n",
       "4  adventure,family,animation,action,comedy  "
      ]
     },
     "execution_count": 148,
     "metadata": {},
     "output_type": "execute_result"
    }
   ],
   "source": [
    "filters.head()"
   ]
  },
  {
   "cell_type": "markdown",
   "metadata": {},
   "source": [
    "Ahora creamos un conjunto de metadatos"
   ]
  },
  {
   "cell_type": "code",
   "execution_count": 149,
   "metadata": {},
   "outputs": [],
   "source": [
    "def crear_datos(x):\n",
    "    return x['name'] + ' ' + x['character']+ ' ' + x['name_genres']+ ' ' + x['overview']\n"
   ]
  },
  {
   "cell_type": "code",
   "execution_count": 150,
   "metadata": {},
   "outputs": [],
   "source": [
    "filters['metadatos']= filters.apply(crear_datos, axis=1)"
   ]
  },
  {
   "cell_type": "code",
   "execution_count": 151,
   "metadata": {},
   "outputs": [
    {
     "data": {
      "text/plain": [
       "overview       0.0\n",
       "title          0.0\n",
       "character      0.0\n",
       "name           0.0\n",
       "name_genres    0.0\n",
       "metadatos      0.0\n",
       "dtype: float64"
      ]
     },
     "execution_count": 151,
     "metadata": {},
     "output_type": "execute_result"
    }
   ],
   "source": [
    "filters.isnull().mean()"
   ]
  },
  {
   "cell_type": "code",
   "execution_count": 152,
   "metadata": {},
   "outputs": [],
   "source": [
    "filters.to_csv('filters.csv', index=False)"
   ]
  },
  {
   "cell_type": "code",
   "execution_count": 153,
   "metadata": {},
   "outputs": [],
   "source": [
    "##usamos Count Vectorizer para convertir las palabras en vectores\n",
    "from sklearn.feature_extraction.text import CountVectorizer\n",
    "#elimino palabras que no me sirven\n",
    "count= CountVectorizer(stop_words='english')\n",
    "count_matrix= count.fit_transform(filters['metadatos'])"
   ]
  },
  {
   "cell_type": "code",
   "execution_count": 154,
   "metadata": {},
   "outputs": [],
   "source": [
    "from sklearn.metrics.pairwise import cosine_similarity\n",
    "\n",
    "cosine_sim2= cosine_similarity(count_matrix, count_matrix)"
   ]
  },
  {
   "cell_type": "code",
   "execution_count": 155,
   "metadata": {},
   "outputs": [],
   "source": [
    "##Reestrablezco el indice de Df inicial y hago le mapeo inverso\n",
    "filters= filters.reset_index()\n",
    "indices=pd.Series(filters.index, index=filters['title'])"
   ]
  },
  {
   "cell_type": "code",
   "execution_count": null,
   "metadata": {},
   "outputs": [],
   "source": [
    "## achico el dataset a las 5 mil mas populares, para que no demore tanto la funcion y no consuma tanta memoria\n",
    "df_top_4= df_top_5.head(5000)\n",
    "##creo el dataset, para luego ponerlo en la carpeta junto con el main\n",
    "df_top_4.to_csv('Funcion4milpelis.csv')"
   ]
  },
  {
   "cell_type": "code",
   "execution_count": 156,
   "metadata": {},
   "outputs": [],
   "source": [
    "filters2= pd.read_csv('filters2.csv')\n",
    "df_top_4=pd.read_csv('Funcion4milpelis.csv')"
   ]
  },
  {
   "cell_type": "code",
   "execution_count": 157,
   "metadata": {},
   "outputs": [],
   "source": [
    "def recomendacion(title):\n",
    "    '''Ingresa un nombre de película y devuelve una lista de películas similares basadas en sus resúmenes'''\n",
    "    \n",
    "    # instancia de CountVectorizer para convertir los textos en vectores numéricos \n",
    "    count = CountVectorizer(stop_words='english') # palabras vacias o comunes en el idioma indicado como english .\n",
    "    count_matrix = count.fit_transform(filters2['metadatos']) # utilizamos la columna metadatos de nuestro dataframe filters2, y matriziamos el conteo de cada palabra\n",
    "    \n",
    "    # Calcularemos la similitud del coseno entre los vectores que representan los metadatos de las películas en filters.\n",
    "    cosine_sim = cosine_similarity(count_matrix, count_matrix)\n",
    "    \n",
    "    # Convertir el título a minúsculas y eliminar espacios en blanco\n",
    "    title = title.replace(' ', '').lower() \n",
    "    \n",
    "    # índice de la película en el df_top_4\n",
    "    if title not in indices: # esto verifica si el nombre ingresado se encuentra en la columna title\n",
    "        return {'Mensaje': 'Película no encontrada'} # si no la encuentra sale este mensaje\n",
    "    \n",
    "    idx = df_top_4[df_top_4['title'].str.replace(' ', '').str.lower() == title].index[0] #  busca el índice correspondiente de la película en el DataFrame df_top_5\n",
    "    \n",
    "    # nos indica los puntajes de similitud y los ordena.\n",
    "    sim_scores = list(enumerate(cosine_sim[idx])) # aqui esta obteniendo los puntajes de similitud\n",
    "    sim_scores = sorted(sim_scores, key=lambda x: x[1], reverse=True) # posteriomente los estamos ordenando. El lambda usa como entrada (x) y devuelve el valor de similitud (x[1])\n",
    "    # ponemo el reverse true porque ordena en orden descendente según el valor de similitud, valga la redundancia.\n",
    "\n",
    "\n",
    "\n",
    "    #Para que devuelva solamente las pelis unicamente que indiquemos, si elimino esta linea devuelve una lista mucho mayor de peliculas similares.\n",
    "    sim_scores = sim_scores[1:6] #[1:6] para que devuelva solamente 5\n",
    "    \n",
    "    # índices de las películas similares (excluyendo la película consultada)\n",
    "    similar_movie_indices = [i[0] for i in sim_scores if i[0] != idx]\n",
    "    # Tomaremos cada elemento 'i' en la lista 'sim_scores'.\n",
    "    # extrae los indices creados en sim_scores y crea una lista de índices (i[0]) solamente si el índice no es igual al índice de la película consultada (idx). \n",
    "    # Esto excluye el índice de la película consultada de la lista de índices de películas similares, != idx] esto indica eso, es decir que no es igual al indice de la peli indicada.\n",
    "    \n",
    "    # Obtener la lista de títulos de películas similares\n",
    "    similar_movie_titles = df_top_4['title'].iloc[similar_movie_indices].tolist()\n",
    "    \n",
    "    return similar_movie_titles "
   ]
  },
  {
   "cell_type": "code",
   "execution_count": 158,
   "metadata": {},
   "outputs": [
    {
     "data": {
      "text/plain": [
       "['Toy Story 2',\n",
       " 'Toy Story 3',\n",
       " 'Small Fry',\n",
       " 'Hawaiian Vacation',\n",
       " 'In a Heartbeat']"
      ]
     },
     "execution_count": 158,
     "metadata": {},
     "output_type": "execute_result"
    }
   ],
   "source": [
    "recomendacion('toy story')"
   ]
  },
  {
   "cell_type": "code",
   "execution_count": 159,
   "metadata": {},
   "outputs": [
    {
     "data": {
      "text/plain": [
       "['Fantastic Beasts and Where to Find Them',\n",
       " 'Pokémon: Spell of the Unknown',\n",
       " 'Highlander',\n",
       " 'The Last Legion',\n",
       " 'Doctor Strange']"
      ]
     },
     "execution_count": 159,
     "metadata": {},
     "output_type": "execute_result"
    }
   ],
   "source": [
    "recomendacion('wonder woman')"
   ]
  }
 ],
 "metadata": {
  "kernelspec": {
   "display_name": "Python 3",
   "language": "python",
   "name": "python3"
  },
  "language_info": {
   "codemirror_mode": {
    "name": "ipython",
    "version": 3
   },
   "file_extension": ".py",
   "mimetype": "text/x-python",
   "name": "python",
   "nbconvert_exporter": "python",
   "pygments_lexer": "ipython3",
   "version": "3.11.1"
  },
  "orig_nbformat": 4
 },
 "nbformat": 4,
 "nbformat_minor": 2
}
