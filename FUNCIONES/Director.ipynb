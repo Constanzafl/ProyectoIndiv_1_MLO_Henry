{
 "cells": [
  {
   "cell_type": "code",
   "execution_count": null,
   "metadata": {},
   "outputs": [],
   "source": [
    "def get_director( nombre_director ): \n",
    "    #Se ingresa el nombre de un director que se encuentre dentro \n",
    "#de un dataset debiendo devolver el éxito del mismo medido a través del retorno. \n",
    "#Además, deberá devolver el nombre de cada película con la fecha de lanzamiento, retorno individual, \n",
    "#costo y ganancia de la misma, en formato lista."
   ]
  },
  {
   "cell_type": "code",
   "execution_count": null,
   "metadata": {},
   "outputs": [],
   "source": [
    "def get_director(nombre_director:str):\n",
    "    ''' Se ingresa el nombre de un director que se encuentre dentro de un dataset debiendo devolver el éxito del mismo medido a través del retorno. \n",
    "    Además, deberá devolver el nombre de cada película con la fecha de lanzamiento, retorno individual, costo y ganancia de la misma. En formato lista'''\n",
    "    return {'director':nombre_director, 'retorno_total_director':respuesta, \n",
    "    'peliculas':respuesta, 'anio':respuesta,, 'retorno_pelicula':respuesta, \n",
    "    'budget_pelicula':respuesta, 'revenue_pelicula':respuesta}"
   ]
  },
  {
   "cell_type": "code",
   "execution_count": null,
   "metadata": {},
   "outputs": [],
   "source": [
    "def get_director(nombre_director):\n",
    "    #  DataFrame para obtener las filas correspondientes al director consultado\n",
    "    peliculas_director = df_directores_final[df_directores_final['Nombre Director'] == nombre_director]\n",
    "\n",
    "    # Calcular el éxito del director medido a través del retorno (ganancia total / costo total)\n",
    "    costo_total = peliculas_director['budget'].sum()\n",
    "    ganancia_total = peliculas_director['revenue'].sum()\n",
    "    retorno_director = ganancia_total / costo_total if costo_total != 0 else 0\n",
    "\n",
    "    # Crear una lista para almacenar la información de cada película\n",
    "    peliculas_info = []\n",
    "\n",
    "    # Recorrer las filas del DataFrame y obtener la información de cada película\n",
    "    for _, pelicula in peliculas_director.iterrows():\n",
    "        info_pelicula = {\n",
    "            'nombre_pelicula': pelicula['title'],\n",
    "            'fecha_lanzamiento': pelicula['release_date'],\n",
    "            'retorno_individual': pelicula['return'],\n",
    "            'costo': pelicula['budget'],\n",
    "            'ganancia': pelicula['revenue']\n",
    "        }\n",
    "        peliculas_info.append(info_pelicula)\n",
    "\n",
    "    # Crear un diccionario con la información del director y las películas\n",
    "    resultado = [\n",
    "         nombre_director,\n",
    "       retorno_director,\n",
    "         peliculas_info\n",
    "    ]\n",
    "\n",
    "    return resultado "
   ]
  }
 ],
 "metadata": {
  "language_info": {
   "name": "python"
  },
  "orig_nbformat": 4
 },
 "nbformat": 4,
 "nbformat_minor": 2
}
