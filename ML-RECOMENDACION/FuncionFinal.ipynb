{
 "cells": [
  {
   "cell_type": "code",
   "execution_count": 1,
   "metadata": {},
   "outputs": [],
   "source": [
    "from fastapi import FastAPI, HTTPException\n",
    "from fastapi.responses import HTMLResponse\n",
    "import pandas as pd\n",
    "import numpy as np\n",
    "from sklearn.feature_extraction.text import TfidfVectorizer\n",
    "from sklearn.metrics.pairwise import linear_kernel\n",
    "from sklearn.feature_extraction.text import CountVectorizer\n",
    "from sklearn.metrics.pairwise import cosine_similarity\n"
   ]
  },
  {
   "cell_type": "code",
   "execution_count": 2,
   "metadata": {},
   "outputs": [
    {
     "name": "stdout",
     "output_type": "stream",
     "text": [
      "<class 'pandas.core.frame.DataFrame'>\n",
      "RangeIndex: 44936 entries, 0 to 44935\n",
      "Data columns (total 11 columns):\n",
      " #   Column             Non-Null Count  Dtype  \n",
      "---  ------             --------------  -----  \n",
      " 0   budget             44936 non-null  float64\n",
      " 1   id                 44936 non-null  int64  \n",
      " 2   original_language  44926 non-null  object \n",
      " 3   overview           44029 non-null  object \n",
      " 4   popularity         44936 non-null  float64\n",
      " 5   release_date       44936 non-null  object \n",
      " 6   revenue            44936 non-null  float64\n",
      " 7   runtime            44696 non-null  float64\n",
      " 8   title              44936 non-null  object \n",
      " 9   release_year       44936 non-null  float64\n",
      " 10  return             10879 non-null  float64\n",
      "dtypes: float64(6), int64(1), object(4)\n",
      "memory usage: 3.8+ MB\n"
     ]
    }
   ],
   "source": [
    "df_movies= pd.read_csv(r'C:\\Users\\flori\\Desktop\\DATA SCIENCE\\LABS\\Trabajos\\Proyecto_Indiv_1_MLO_Henry\\ETL\\A-ETLconsignas\\MoviesSMALL.csv')\n",
    "df_movies.info()"
   ]
  },
  {
   "cell_type": "code",
   "execution_count": 3,
   "metadata": {},
   "outputs": [],
   "source": [
    "df_top_5=pd.read_csv('Top15kpelis.csv')\n",
    "filters=pd.read_csv('filters.csv')\n",
    "df_concat3=pd.read_csv('FuncionML.csv')"
   ]
  },
  {
   "cell_type": "code",
   "execution_count": 4,
   "metadata": {},
   "outputs": [
    {
     "data": {
      "text/plain": [
       "id            0.000000\n",
       "overview      0.002933\n",
       "popularity    0.000000\n",
       "title         0.000000\n",
       "dtype: float64"
      ]
     },
     "execution_count": 4,
     "metadata": {},
     "output_type": "execute_result"
    }
   ],
   "source": [
    "df_top_5.isnull().mean()"
   ]
  },
  {
   "cell_type": "code",
   "execution_count": 5,
   "metadata": {},
   "outputs": [],
   "source": [
    "df_top_5['overview'].fillna('', inplace=True) "
   ]
  },
  {
   "cell_type": "code",
   "execution_count": 6,
   "metadata": {},
   "outputs": [],
   "source": [
    "df_top_4= df_top_5.head(5000)"
   ]
  },
  {
   "cell_type": "code",
   "execution_count": 7,
   "metadata": {},
   "outputs": [],
   "source": [
    "df_top_4.to_csv('Funcion4milpelis.csv', index=False)"
   ]
  },
  {
   "cell_type": "code",
   "execution_count": 8,
   "metadata": {},
   "outputs": [
    {
     "data": {
      "text/plain": [
       "overview       0.002933\n",
       "title          0.000000\n",
       "character      0.002667\n",
       "name           0.001467\n",
       "name_genres    0.001200\n",
       "metadatos      0.000000\n",
       "dtype: float64"
      ]
     },
     "execution_count": 8,
     "metadata": {},
     "output_type": "execute_result"
    }
   ],
   "source": [
    "filters.isnull().mean()"
   ]
  },
  {
   "cell_type": "code",
   "execution_count": 9,
   "metadata": {},
   "outputs": [],
   "source": [
    "filters.fillna('', inplace=True) "
   ]
  },
  {
   "cell_type": "code",
   "execution_count": 10,
   "metadata": {},
   "outputs": [],
   "source": [
    "filters2= filters.head(4000)"
   ]
  },
  {
   "cell_type": "code",
   "execution_count": 11,
   "metadata": {},
   "outputs": [],
   "source": [
    "filters2.to_csv('filters2.csv', index=False)"
   ]
  },
  {
   "cell_type": "code",
   "execution_count": 14,
   "metadata": {},
   "outputs": [],
   "source": [
    "\n",
    "indices=pd.Series(filters2.index, index=filters2['title'])\n",
    "\n",
    "def recomendacion_peli_top(title):\n",
    "    '''Ingresa un nombre de película y devuelve una lista de películas similares basadas en sus resúmenes'''\n",
    "    \n",
    "    # instancia de CountVectorizer para convertir los textos en vectores numéricos \n",
    "    count = CountVectorizer(stop_words='english') # palabras vacias o comunes en el idioma indicado como english .\n",
    "    count_matrix = count.fit_transform(filters2['metadatos']) # utilizamos la columna overviwe de nuestro dataframe df_top_5., y matriziamos el conteo de cada palabra\n",
    "    \n",
    "    # # Calcularemos la similitud del coseno entre los vectores que representan los overview de las películas en df_top_5.\n",
    "    cosine_sim = cosine_similarity(count_matrix, count_matrix)\n",
    "    \n",
    "    # Convertir el título a minúsculas y eliminar espacios en blanco\n",
    "    title = title.replace(' ', '').lower() \n",
    "    \n",
    "    # índice de la película en el df_top_5\n",
    "    if title not in indices: # esto verifica si el nombre ingresado se encuentra en la columna title\n",
    "        return {'Mensaje': 'Película no encontrada'} # si no la encuentra sale este mensaje\n",
    "    \n",
    "    idx = df_top_4[df_top_4['title'].str.replace(' ', '').str.lower() == title].index[0] #  busca el índice correspondiente de la película en el DataFrame df_top_5\n",
    "    \n",
    "    # nos indica los puntajes de similitud y los ordena.\n",
    "    sim_scores = list(enumerate(cosine_sim[idx])) # aqui esta obteniendo los puntajes de similitud\n",
    "    sim_scores = sorted(sim_scores, key=lambda x: x[1], reverse=True) # posteriomente los estamos ordenando. El lambda usa como entrada (x) y devuelve el valor de similitud (x[1])\n",
    "    # ponemo el reverse true porque ordena en orden descendente según el valor de similitud, valga la redundancia.\n",
    "\n",
    "\n",
    "\n",
    "    #Para que devuelva solamente las pelis unicamente que indiquemos, si elimino esta linea devuelve una lista mucho mayor de peliculas similares.\n",
    "    sim_scores = sim_scores[1:6] #[1:6] para que devuelva solamente 5\n",
    "    \n",
    "    # índices de las películas similares (excluyendo la película consultada)\n",
    "    similar_movie_indices = [i[0] for i in sim_scores if i[0] != idx]\n",
    "    # Tomaremos cada elemento 'i' en la lista 'sim_scores'.\n",
    "    # extrae los indices creados en sim_scores y crea una lista de índices (i[0]) solamente si el índice no es igual al índice de la película consultada (idx). \n",
    "    # Esto excluye el índice de la película consultada de la lista de índices de películas similares, != idx] esto indica eso, es decir que no es igual al indice de la peli indicada.\n",
    "    \n",
    "    # Obtener la lista de títulos de películas similares\n",
    "    similar_movie_titles = df_top_4['title'].iloc[similar_movie_indices].tolist()\n",
    "    \n",
    "    return similar_movie_titles "
   ]
  },
  {
   "cell_type": "code",
   "execution_count": 15,
   "metadata": {},
   "outputs": [
    {
     "data": {
      "text/plain": [
       "['Toy Story 2',\n",
       " 'Toy Story 3',\n",
       " 'Small Fry',\n",
       " 'Hawaiian Vacation',\n",
       " 'In a Heartbeat']"
      ]
     },
     "execution_count": 15,
     "metadata": {},
     "output_type": "execute_result"
    }
   ],
   "source": [
    "recomendacion_peli_top('toy story')"
   ]
  },
  {
   "cell_type": "code",
   "execution_count": 16,
   "metadata": {},
   "outputs": [
    {
     "data": {
      "text/plain": [
       "['Fantastic Beasts and Where to Find Them',\n",
       " 'Pokémon: Spell of the Unknown',\n",
       " 'Highlander',\n",
       " 'The Last Legion',\n",
       " 'Doctor Strange']"
      ]
     },
     "execution_count": 16,
     "metadata": {},
     "output_type": "execute_result"
    }
   ],
   "source": [
    "recomendacion_peli_top('wonder woman')"
   ]
  }
 ],
 "metadata": {
  "kernelspec": {
   "display_name": "Python 3",
   "language": "python",
   "name": "python3"
  },
  "language_info": {
   "codemirror_mode": {
    "name": "ipython",
    "version": 3
   },
   "file_extension": ".py",
   "mimetype": "text/x-python",
   "name": "python",
   "nbconvert_exporter": "python",
   "pygments_lexer": "ipython3",
   "version": "3.11.1"
  },
  "orig_nbformat": 4
 },
 "nbformat": 4,
 "nbformat_minor": 2
}
