{
 "cells": [
  {
   "cell_type": "code",
   "execution_count": null,
   "metadata": {},
   "outputs": [],
   "source": [
    "def get_director( nombre_director ): \n",
    "    #Se ingresa el nombre de un director que se encuentre dentro \n",
    "#de un dataset debiendo devolver el éxito del mismo medido a través del retorno. \n",
    "#Además, deberá devolver el nombre de cada película con la fecha de lanzamiento, retorno individual, \n",
    "#costo y ganancia de la misma, en formato lista."
   ]
  }
 ],
 "metadata": {
  "language_info": {
   "name": "python"
  },
  "orig_nbformat": 4
 },
 "nbformat": 4,
 "nbformat_minor": 2
}
