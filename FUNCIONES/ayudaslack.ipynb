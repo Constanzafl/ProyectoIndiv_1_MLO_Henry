{
 "cells": [
  {
   "cell_type": "markdown",
   "metadata": {},
   "source": [
    "Mensaje que subieron para guiarnos"
   ]
  },
  {
   "cell_type": "code",
   "execution_count": null,
   "metadata": {},
   "outputs": [],
   "source": [
    "@app.get('/peliculas_idioma/{idioma}')\n",
    "def peliculas_idioma(idioma:str):\n",
    "    '''Ingresas el idioma, retornando la cantidad de peliculas producidas en el mismo'''\n",
    "    return {'idioma':idioma, 'cantidad':respuesta}\n",
    "    \n",
    " @app.get('/peliculas_duracion/{pelicula}')\n",
    "def peliculas_duracion(pelicula:str):\n",
    "    '''Ingresas la pelicula, retornando la duracion y el año'''\n",
    "    return {'pelicula':pelicula, 'duracion':respuesta, 'anio':anio}\n",
    "\n",
    "\n",
    "\n",
    "@app.get('/franquicia/{franquicia}')\n",
    "def franquicia(franquicia:str):\n",
    "    '''Se ingresa la franquicia, retornando la cantidad de peliculas, ganancia total y promedio'''\n",
    "    return {'franquicia':franquicia, 'cantidad':respuesta, 'ganancia_total':respuesta, 'ganancia_promedio':respuesta}\n",
    "\n",
    "@app.get('/peliculas_pais/{pais}')\n",
    "def peliculas_pais(pais:str):\n",
    "    '''Ingresas el pais, retornando la cantidad de peliculas producidas en el mismo'''\n",
    "    return {'pais':pais, 'cantidad':respuesta}\n",
    "\n",
    "@app.get('/productoras_exitosas/{productora}')\n",
    "def productoras_exitosas(productora:str):\n",
    "    '''Ingresas la productora, entregandote el revunue total y la cantidad de peliculas que realizo '''\n",
    "    return {'productora':productora, 'revenue_total': respuesta,'cantidad':respuesta}\n",
    "\n",
    "\n",
    "@app.get('/get_director/{nombre_director}')\n",
    "def get_director(nombre_director:str):\n",
    "    ''' Se ingresa el nombre de un director que se encuentre dentro de un dataset debiendo devolver el éxito del mismo medido a través del retorno. \n",
    "    Además, deberá devolver el nombre de cada película con la fecha de lanzamiento, retorno individual, costo y ganancia de la misma. En formato lista'''\n",
    "    return {'director':nombre_director, 'retorno_total_director':respuesta, \n",
    "    'peliculas':respuesta, 'anio':respuesta,, 'retorno_pelicula':respuesta, \n",
    "    'budget_pelicula':respuesta, 'revenue_pelicula':respuesta}\n",
    "\n",
    "# ML\n",
    "@app.get('/recomendacion/{titulo}')\n",
    "def recomendacion(titulo:str):\n",
    "    '''Ingresas un nombre de pelicula y te recomienda las similares en una lista'''\n",
    "    return {'lista recomendada': respuesta}"
   ]
  }
 ],
 "metadata": {
  "language_info": {
   "name": "python"
  },
  "orig_nbformat": 4
 },
 "nbformat": 4,
 "nbformat_minor": 2
}
