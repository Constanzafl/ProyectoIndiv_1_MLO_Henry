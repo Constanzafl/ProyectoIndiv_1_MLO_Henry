{
 "cells": [
  {
   "cell_type": "code",
   "execution_count": 1,
   "metadata": {},
   "outputs": [],
   "source": [
    "import pandas as pd"
   ]
  },
  {
   "cell_type": "code",
   "execution_count": null,
   "metadata": {},
   "outputs": [],
   "source": [
    "### para hacer esta funcion primero priorice crear un DF con los valores que me pide..\n",
    "## esta hecho en el archivo Desanidar COllections en la carpeta DESANIDANDO y lo transforme a CSV"
   ]
  },
  {
   "cell_type": "code",
   "execution_count": null,
   "metadata": {},
   "outputs": [],
   "source": [
    "def franquicia(franquicia: str):\n",
    "    # Filtrar el DataFrame para obtener las películas de la franquicia dada\n",
    "    peliculas_franquicia = df_movies[df_movies['franquicia'] == franquicia]\n",
    "    \n",
    "    # Verificar si se encontraron películas para la franquicia dada\n",
    "    if peliculas_franquicia.empty:\n",
    "        return None  # O un mensaje indicativo de que no se encontraron películas\n",
    "    \n",
    "    # Calcular la cantidad de películas de la franquicia\n",
    "    cantidad = len(peliculas_franquicia)\n",
    "    \n",
    "    # Calcular la ganancia total de la franquicia\n",
    "    ganancia_total = peliculas_franquicia['ganancia'].sum()\n",
    "    \n",
    "    # Calcular la ganancia promedio de la franquicia\n",
    "    ganancia_promedio = peliculas_franquicia['ganancia'].mean()\n",
    "    \n",
    "    # Crear el diccionario de respuesta\n",
    "    respuesta = {\n",
    "        'franquicia': franquicia,\n",
    "        'cantidad': cantidad,\n",
    "        'ganancia_total': ganancia_total,\n",
    "        'ganancia_promedio': ganancia_promedio\n",
    "    }\n",
    "    \n",
    "    return respuesta\n",
    "\n",
    "# Ejemplo de uso de la función\n",
    "resultado = franquicia('Franquicia A')\n",
    "print(resultado)"
   ]
  }
 ],
 "metadata": {
  "kernelspec": {
   "display_name": "Python 3",
   "language": "python",
   "name": "python3"
  },
  "language_info": {
   "codemirror_mode": {
    "name": "ipython",
    "version": 3
   },
   "file_extension": ".py",
   "mimetype": "text/x-python",
   "name": "python",
   "nbconvert_exporter": "python",
   "pygments_lexer": "ipython3",
   "version": "3.11.1"
  },
  "orig_nbformat": 4
 },
 "nbformat": 4,
 "nbformat_minor": 2
}
